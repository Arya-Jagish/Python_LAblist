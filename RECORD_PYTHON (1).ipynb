{
 "cells": [
  {
   "cell_type": "code",
   "execution_count": 2,
   "id": "66aff441",
   "metadata": {},
   "outputs": [
    {
     "name": "stdout",
     "output_type": "stream",
     "text": [
      "Enter first number:20\n",
      "Enter second number:13\n",
      "1.Add\n",
      " 2.Subtract\n",
      " 3.Multiply\n",
      " 4.Division\n",
      "\n",
      "Enter your choice:2\n",
      "7\n"
     ]
    }
   ],
   "source": [
    "#Create a simple calculator in Python.\n",
    "\n",
    "a=int(input(\"Enter first number:\"))\n",
    "b=int(input(\"Enter second number:\"))\n",
    "print(\"1.Add\\n 2.Subtract\\n 3.Multiply\\n 4.Division\\n\")\n",
    "ch=int(input(\"Enter your choice:\"))\n",
    "if ch==1:\n",
    "    sum=int(a+b)\n",
    "    print(sum)\n",
    "elif ch==2:\n",
    "    sub=int(a-b)\n",
    "    print(sub)\n",
    "elif ch==3:\n",
    "    mult=int(a*b)\n",
    "    print(mult)\n",
    "elif ch==4:\n",
    "    div=int(a/b)\n",
    "    print(div)\n"
   ]
  },
  {
   "cell_type": "code",
   "execution_count": 5,
   "id": "d1d11785",
   "metadata": {},
   "outputs": [
    {
     "name": "stdout",
     "output_type": "stream",
     "text": [
      "Enter the rate of charge:250\n",
      "Final Amount will be: 162.5\n"
     ]
    }
   ],
   "source": [
    "#An electric power distribution company charges domestic customers as follows:\n",
    "#Consumption unit Rate of charge:\n",
    "#●0-200 Rs .0.50 per unit.\n",
    "#●201-400 Rs. 0.65 per unit in excess of 200.\n",
    "#●401-600 Rs 0.80 per unit in excess of 400.\n",
    "#●601 and above Rs 1.00 per unit in excess of 600.\n",
    "#●If the bill exceeds Rs. 400, then a surcharge of 15% will be charged, and the minimum bill should be Rs. 100/-\n",
    "#Create a python program based on the scenario mentioned above.\n",
    "\n",
    "Rate=int(input(\"Enter the rate of charge:\"))\n",
    "if(Rate>=0 and Rate<=200):\n",
    "    Charge=Rate*0.50\n",
    "elif(Rate>=201 and Rate<=400):\n",
    "    Charge=Rate*0.65\n",
    "elif(Rate>=401 and Rate<=600):\n",
    "    Charge=Rate*0.80\n",
    "elif(Rate>=601):\n",
    "    Charge=Rate*1\n",
    "if (Charge>400):\n",
    "    Total=Charge+Charge*(15/100)\n",
    "elif(Charge<=100):\n",
    "    Total=Charge\n",
    "else:\n",
    "    Total=Charge\n",
    "    \n",
    "print(\"Final Amount will be:\",+Total)\n",
    "    "
   ]
  },
  {
   "cell_type": "code",
   "execution_count": 14,
   "id": "e3213d93",
   "metadata": {},
   "outputs": [
    {
     "name": "stdout",
     "output_type": "stream",
     "text": [
      "Enter the Number of loops to be printed:5\n",
      "1 \n",
      "1 2 \n",
      "1 2 3 \n",
      "1 2 3 4 \n",
      "1 2 3 4 5 \n"
     ]
    }
   ],
   "source": [
    "# Print the Pyramid of numbers using for loops.\n",
    "n=int(input(\"Enter the Number of loops to be printed:\"))\n",
    "for i in range(0,n):\n",
    "    for j in range(0,i+1):\n",
    "         print(j+1, end=\" \")\n",
    "    print(\"\")\n",
    "        \n",
    "    "
   ]
  },
  {
   "cell_type": "code",
   "execution_count": 18,
   "id": "1d3dfd8d",
   "metadata": {},
   "outputs": [
    {
     "name": "stdout",
     "output_type": "stream",
     "text": [
      "count of the number is: 14\n",
      "Sum of the number is: 2107\n"
     ]
    }
   ],
   "source": [
    "#Write a program to find the number of and sum of all integers greater than 100 and less than 200 that are divisible by 7.\n",
    "\n",
    "sum=0\n",
    "count=0\n",
    "for i in range(100,200):\n",
    "    if (i%7==0):\n",
    "        count=count+1\n",
    "        sum+=i\n",
    "print(\"count of the number is:\",+count)\n",
    "print(\"Sum of the number is:\",+sum)\n",
    "    \n",
    "        "
   ]
  },
  {
   "cell_type": "code",
   "execution_count": 24,
   "id": "19f42aa9",
   "metadata": {},
   "outputs": [
    {
     "name": "stdout",
     "output_type": "stream",
     "text": [
      "Enter n:10\n"
     ]
    },
    {
     "data": {
      "text/plain": [
       "55"
      ]
     },
     "execution_count": 24,
     "metadata": {},
     "output_type": "execute_result"
    }
   ],
   "source": [
    "#Write a recursive function to calculate the sum of numbers from 0 to 10\n",
    "\n",
    "n=int(input(\"Enter n:\"))\n",
    "def sum(n):\n",
    "    if n<=0:\n",
    "        return n\n",
    "    else:\n",
    "        return n+sum(n-1)\n",
    "sum(n)\n",
    "        \n",
    "    "
   ]
  },
  {
   "cell_type": "code",
   "execution_count": 13,
   "id": "cc558050",
   "metadata": {},
   "outputs": [
    {
     "name": "stdout",
     "output_type": "stream",
     "text": [
      "Enter the number:5\n",
      "{5: 120}\n"
     ]
    }
   ],
   "source": [
    "#Write a function to find the factorial of a number but also store the factorials calculated in a dictionary.\n",
    "\n",
    "num=dict()\n",
    "def fact(n):\n",
    "    temp,factorial=n,1\n",
    "    while(temp)>1:\n",
    "        factorial*=temp\n",
    "        temp-=1\n",
    "    num[n]=factorial\n",
    "    return factorial\n",
    "n=int(input(\"Enter the number:\"))\n",
    "fact(n)\n",
    "print(num)"
   ]
  },
  {
   "cell_type": "code",
   "execution_count": 17,
   "id": "1d4047d6",
   "metadata": {},
   "outputs": [
    {
     "name": "stdout",
     "output_type": "stream",
     "text": [
      "Union: {1, 2, 3, 4, 5, 6, 7, 8}\n",
      "Difference: {1, 2, 3}\n",
      "Intersection: {4, 5}\n"
     ]
    }
   ],
   "source": [
    "#Perform various set operations Set Union Set Intersection ,Set Difference\n",
    "\n",
    "def set(s1,s2):\n",
    "    print(\"Union:\", s1.union(b))\n",
    "    print(\"Difference:\", s1.difference(s2))\n",
    "    print(\"Intersection:\", s1.intersection(s2))\n",
    "\n",
    "a = {1,2,3,4,5}\n",
    "b = {4,5,6,7,8}\n",
    "set(a,b)\n",
    "    \n"
   ]
  },
  {
   "cell_type": "code",
   "execution_count": 9,
   "id": "27868659",
   "metadata": {},
   "outputs": [
    {
     "name": "stdout",
     "output_type": "stream",
     "text": [
      "Enter the number: 125\n",
      "The number is a palindrome: 646\n"
     ]
    }
   ],
   "source": [
    "#Write a Python program to reverse the digits of a given number and add it to the original, \n",
    "#If the sum is not a palindrome repeat this procedure.\n",
    "\n",
    "def rev(n):\n",
    "    reverse = 0\n",
    "    while n != 0:\n",
    "        remainder = n % 10\n",
    "        reverse = reverse * 10 + remainder\n",
    "        n //= 10\n",
    "    return reverse\n",
    "\n",
    "def palin(n):\n",
    "    if rev(n) == n:\n",
    "        return True\n",
    "    else:\n",
    "        return False\n",
    "    \n",
    "def Add(n):\n",
    "    while True:\n",
    "        reverse = rev(n) # Reversing the digits of the number\n",
    "        n = n + reverse # Adding the reversed number with the original\n",
    "        if palin(n): # Checking whether the number is palindrome or not\n",
    "            print(\"The number is a palindrome:\", n)\n",
    "            break\n",
    "        else:\n",
    "            print (\"No palindrome exist\")\n",
    " \n",
    "\n",
    "n = int(input(\"Enter the number: \"))\n",
    "Add(n)\n"
   ]
  },
  {
   "cell_type": "code",
   "execution_count": 2,
   "id": "6d7e9f39",
   "metadata": {},
   "outputs": [
    {
     "name": "stdout",
     "output_type": "stream",
     "text": [
      "\n",
      "--- String Operations Menu ---\n",
      "A) Check String is Substring of Another String\n",
      "B) Count Occurrences of Character\n",
      "C) Replace a Substring with Another Substring\n",
      "D) Convert to Capital Letters\n",
      "E) Exit\n",
      "Enter your choice (A/B/C/D/E): A\n",
      "Enter the main string: Arya \n",
      "Enter the substring to check: rya\n",
      "s2 is a substring of s1\n",
      "\n",
      "--- String Operations Menu ---\n",
      "A) Check String is Substring of Another String\n",
      "B) Count Occurrences of Character\n",
      "C) Replace a Substring with Another Substring\n",
      "D) Convert to Capital Letters\n",
      "E) Exit\n",
      "Enter your choice (A/B/C/D/E): V\n",
      "Invalid choice. Please select a valid option (A/B/C/D/E).\n",
      "\n",
      "--- String Operations Menu ---\n",
      "A) Check String is Substring of Another String\n",
      "B) Count Occurrences of Character\n",
      "C) Replace a Substring with Another Substring\n",
      "D) Convert to Capital Letters\n",
      "E) Exit\n",
      "Enter your choice (A/B/C/D/E): B\n",
      "Enter the string: Arya Jagish Arya\n",
      "Enter the character to count: Arya\n",
      "2\n",
      "\n",
      "--- String Operations Menu ---\n",
      "A) Check String is Substring of Another String\n",
      "B) Count Occurrences of Character\n",
      "C) Replace a Substring with Another Substring\n",
      "D) Convert to Capital Letters\n",
      "E) Exit\n",
      "Enter your choice (A/B/C/D/E): C\n",
      "Enter the string: Arya Jagish\n",
      "Enter the substring to replace: Arya\n",
      "Enter the new substring: Rishikesh\n",
      "Rishikesh Jagish\n",
      "\n",
      "--- String Operations Menu ---\n",
      "A) Check String is Substring of Another String\n",
      "B) Count Occurrences of Character\n",
      "C) Replace a Substring with Another Substring\n",
      "D) Convert to Capital Letters\n",
      "E) Exit\n",
      "Enter your choice (A/B/C/D/E): D\n",
      "Enter the string: Arya Jagish\n",
      "ARYA JAGISH\n",
      "\n",
      "--- String Operations Menu ---\n",
      "A) Check String is Substring of Another String\n",
      "B) Count Occurrences of Character\n",
      "C) Replace a Substring with Another Substring\n",
      "D) Convert to Capital Letters\n",
      "E) Exit\n",
      "Enter your choice (A/B/C/D/E): E\n"
     ]
    }
   ],
   "source": [
    "#Write a menu-driven program that performs the following operations on strings\n",
    "#Check String is Substring of Another String\n",
    "#Count Occurrences of Character\n",
    "#Replace a substring with another substring\n",
    "#Convert to Capital Letters\n",
    "\n",
    "def check():\n",
    "    x = input(\"Enter the main string: \")\n",
    "    y = input(\"Enter the substring to check: \")\n",
    "    if y in x:\n",
    "        print(\"s2 is a substring of s1\")\n",
    "    else:\n",
    "        print(\"s2 is not a substring of s1\")\n",
    "\n",
    "def count():\n",
    "    string = input(\"Enter the string: \")\n",
    "    char = input(\"Enter the character to count: \")\n",
    "    count = string.count(char)\n",
    "    print(count)\n",
    "\n",
    "def replace():\n",
    "    string = input(\"Enter the string: \")\n",
    "    old= input(\"Enter the substring to replace: \")\n",
    "    new= input(\"Enter the new substring: \")\n",
    "    new_string = string.replace(old, new)\n",
    "    print(new_string)\n",
    "\n",
    "def convert():\n",
    "    string = input(\"Enter the string: \")\n",
    "    capital_string = string.upper()\n",
    "    print(capital_string)\n",
    "\n",
    "while True:\n",
    "    print(\"\\n--- String Operations Menu ---\")\n",
    "    print(\"A) Check String is Substring of Another String\")\n",
    "    print(\"B) Count Occurrences of Character\")\n",
    "    print(\"C) Replace a Substring with Another Substring\")\n",
    "    print(\"D) Convert to Capital Letters\")\n",
    "    print(\"E) Exit\")\n",
    "\n",
    "    choice = input(\"Enter your choice (A/B/C/D/E): \").upper()\n",
    "\n",
    "    if choice == \"A\":\n",
    "        check()\n",
    "    elif choice == \"B\":\n",
    "        count()\n",
    "    elif choice == \"C\":\n",
    "        replace()\n",
    "    elif choice == \"D\":\n",
    "        convert()\n",
    "    elif choice == \"E\":\n",
    "        break\n",
    "    else:\n",
    "        print(\"Invalid choice. Please select a valid option (A/B/C/D/E).\")\n"
   ]
  },
  {
   "cell_type": "code",
   "execution_count": 19,
   "id": "3e3a86a5",
   "metadata": {},
   "outputs": [
    {
     "name": "stdout",
     "output_type": "stream",
     "text": [
      "Enter the number of students: 2\n",
      "Enter student name: arya\n",
      "Enter roll number: 24\n",
      "Enter total marks: 122\n",
      "Enter student name: rishi\n",
      "Enter roll number: 42\n",
      "Enter total marks: 234\n",
      "Student with highest total marks:\n",
      "Name: rishi\n"
     ]
    }
   ],
   "source": [
    "#Create a dictionary to store the name, roll_no, total_mark of N students. \n",
    "#Now print the details of the student who has got the highest total_mark.\n",
    "\n",
    "def stu_details():\n",
    "    stu_details = {}\n",
    "    n = int(input(\"Enter the number of students: \"))\n",
    "    \n",
    "    for i in range(n):\n",
    "        name = input(\"Enter student name: \")\n",
    "        roll_no = input(\"Enter roll number: \")\n",
    "        total_mark = float(input(\"Enter total marks: \"))\n",
    "        \n",
    "        stu_details[roll_no] = {'name': name, 'total_mark': total_mark}\n",
    "    return stu_details\n",
    "\n",
    "stu_dict = stu_details()\n",
    "\n",
    "high_mark = -1\n",
    "high_mark_student = None\n",
    "\n",
    "for roll_no, details in stu_dict.items():\n",
    "    if details['total_mark'] > high_mark:\n",
    "        high_mark = details['total_mark']\n",
    "        high_mark_student = details\n",
    "\n",
    "# Print details of student with highest total_mark\n",
    "if high_mark_student:\n",
    "    print(\"Student with highest total marks:\")\n",
    "    print(\"Name:\", high_mark_student['name'])\n",
    "else:\n",
    "    print(\"No student details found.\")\n",
    "\n",
    "    "
   ]
  },
  {
   "cell_type": "code",
   "execution_count": 5,
   "id": "dd6cd9d8",
   "metadata": {},
   "outputs": [
    {
     "name": "stdout",
     "output_type": "stream",
     "text": [
      "Enter the Number:11\n",
      "The number 11 is a prime number\n"
     ]
    }
   ],
   "source": [
    "#Python program to check whether the given integer is a prime number or not\n",
    "\n",
    "n=int(input(\"Enter the Number:\"))\n",
    "if n > 1:\n",
    "    for i in range(2,int(n/2)+1):\n",
    "        if(n%i)==0:\n",
    "            print(\"The number\", n ,\"is not a prime number\")\n",
    "            break\n",
    "    else:\n",
    "            print(\"The number\", n ,\"is a prime number\")\n",
    "else:\n",
    "    print(\"The number is not a prime number\")\n",
    "        "
   ]
  },
  {
   "cell_type": "code",
   "execution_count": 7,
   "id": "048761a2",
   "metadata": {},
   "outputs": [
    {
     "name": "stdout",
     "output_type": "stream",
     "text": [
      "enter the number: 10\n",
      "2\n",
      "3\n",
      "5\n",
      "7\n"
     ]
    }
   ],
   "source": [
    "#Python program to generate the prime numbers from 1 to N.\n",
    "\n",
    "Number = int(input(\"Enter the Number: \"))\n",
    "\n",
    "for n in range(2, Number + 1):\n",
    "    for i in range(2, n):\n",
    "        if n % i == 0:\n",
    "            break\n",
    "    else:\n",
    "        print(n)\n",
    "    "
   ]
  },
  {
   "cell_type": "code",
   "execution_count": 15,
   "id": "9948b24a",
   "metadata": {},
   "outputs": [
    {
     "name": "stdout",
     "output_type": "stream",
     "text": [
      "Enter the Number a:1\n",
      "Enter the Number b:2\n",
      "Enter the Number c:1\n",
      "The solution are -1.0 and -1.0\n"
     ]
    }
   ],
   "source": [
    "#Python program to find the roots of a quadratic equation.\n",
    "\n",
    "import math\n",
    "a=int(input(\"Enter the Number a:\"))\n",
    "b=int(input(\"Enter the Number b:\"))\n",
    "c=int(input(\"Enter the Number c:\"))\n",
    "\n",
    "d=(b*b-4*a*c)\n",
    "\n",
    "s1 = (-b-math.sqrt(d))/(2*a)\n",
    "s2 = (-b+math.sqrt(d))/(2*a)\n",
    "\n",
    "print('The solution are {0} and {1}'.format(s1,s2))\n"
   ]
  },
  {
   "cell_type": "code",
   "execution_count": 23,
   "id": "04245882",
   "metadata": {},
   "outputs": [
    {
     "name": "stdout",
     "output_type": "stream",
     "text": [
      "Enter the Number: 5\n",
      "5\n",
      "4\n",
      "3\n",
      "2\n",
      "1\n",
      "0\n"
     ]
    }
   ],
   "source": [
    "#Python program to print the numbers from a given number n till 0 using recursion.\n",
    "\n",
    "n = int(input(\"Enter the Number: \"))\n",
    "\n",
    "def recur_fun(n):\n",
    "    if n < 0:\n",
    "        return\n",
    "    print(n)\n",
    "    recur_fun(n - 1)\n",
    "\n",
    "recur_fun(n)\n",
    "\n",
    "\n"
   ]
  },
  {
   "cell_type": "code",
   "execution_count": 3,
   "id": "543e15a5",
   "metadata": {},
   "outputs": [
    {
     "name": "stdout",
     "output_type": "stream",
     "text": [
      "Enter the Number:3\n",
      "Enter number:4\n",
      "Enter number:1\n",
      "Enter number:2\n",
      "Sum of Numbers are: 7\n"
     ]
    }
   ],
   "source": [
    "#python program to display the sum of n numbers using a list.\n",
    "\n",
    "n=int(input(\"Enter the Number:\"))\n",
    "\n",
    "sum=0\n",
    "list =[]\n",
    "\n",
    "for i in range(n):\n",
    "    number = int(input(\"Enter number:\"))\n",
    "    list.append(number)\n",
    "    sum += number\n",
    "    \n",
    "print(\"Sum of Numbers are:\",sum)"
   ]
  },
  {
   "cell_type": "code",
   "execution_count": 7,
   "id": "b46abddb",
   "metadata": {},
   "outputs": [
    {
     "name": "stdout",
     "output_type": "stream",
     "text": [
      "Enter the number of elements: 5\n",
      "Enter element 1: 1\n",
      "Enter element 2: 7\n",
      "Enter element 3: 2\n",
      "Enter element 4: 3\n",
      "Enter element 5: 0\n",
      "Enter the target element: 1\n",
      "Search element 1 found at index 0\n"
     ]
    }
   ],
   "source": [
    "number = int(input(\"Enter the number of elements: \"))\n",
    "\n",
    "a = []\n",
    "\n",
    "for i in range(number):\n",
    "    num = int(input(f\"Enter element {i+1}: \"))\n",
    "    a.append(num)\n",
    "\n",
    "n = int(input(\"Enter the target element: \"))\n",
    "\n",
    "def linear_search(a, n):\n",
    "    for i in range(len(a)):\n",
    "        if a[i] == n:\n",
    "            return i  \n",
    "    return -1\n",
    "\n",
    "result = linear_search(a, n)\n",
    "\n",
    "if result != -1:\n",
    "    print(f\"Search element {n} found at index {result}\")\n",
    "else:\n",
    "    print(f\"Search element {n} not found in the list\")\n",
    "\n"
   ]
  },
  {
   "cell_type": "code",
   "execution_count": 13,
   "id": "e8f6e7e3",
   "metadata": {},
   "outputs": [
    {
     "name": "stdout",
     "output_type": "stream",
     "text": [
      "Enter the number of elements: 4\n",
      "Enter element 1: 1\n",
      "Enter element 2: 3\n",
      "Enter element 3: 5\n",
      "Enter element 4: 7\n",
      "Odd Numbers: [1, 3, 5, 7]\n"
     ]
    }
   ],
   "source": [
    "number = int(input(\"Enter the number of elements: \"))\n",
    "\n",
    "a = []\n",
    "\n",
    "for i in range(number):\n",
    "    num = int(input(f\"Enter element {i+1}: \"))\n",
    "    a.append(num)\n",
    "\n",
    "def find_odd_numbers(arr):\n",
    "    odd_numbers = []\n",
    "    for num in arr:\n",
    "        if num % 2 != 0:\n",
    "            odd_numbers.append(num)\n",
    "    return odd_numbers\n",
    "\n",
    "odd_nums = find_odd_numbers(a)\n",
    "print(\"Odd Numbers:\", odd_nums)\n"
   ]
  },
  {
   "cell_type": "code",
   "execution_count": 16,
   "id": "dc4e34ea",
   "metadata": {},
   "outputs": [
    {
     "name": "stdout",
     "output_type": "stream",
     "text": [
      "Enter the number of elements: 3\n",
      "Enter element 1: 1\n",
      "Enter element 2: 5\n",
      "Enter element 3: 8\n",
      "Largest number: 8\n"
     ]
    }
   ],
   "source": [
    "number = int(input(\"Enter the number of elements: \"))\n",
    "\n",
    "a = []\n",
    "largest = None  \n",
    "\n",
    "for i in range(number):\n",
    "    num = int(input(f\"Enter element {i+1}: \"))\n",
    "    a.append(num)\n",
    "\n",
    "def find_largest_no(arr):\n",
    "    largest = arr[0]  \n",
    "    for num in arr:\n",
    "        if num > largest:\n",
    "            largest = num\n",
    "    return largest\n",
    "\n",
    "LargestNumber = find_largest_no(a)  \n",
    "print(\"Largest number is:\", LargestNumber)\n"
   ]
  },
  {
   "cell_type": "code",
   "execution_count": 19,
   "id": "1bd80912",
   "metadata": {},
   "outputs": [
    {
     "name": "stdout",
     "output_type": "stream",
     "text": [
      "Enter the number of elements: 3\n",
      "Enter element 1: 4\n",
      "Enter element 2: 1\n",
      "Enter element 3: 8\n",
      "Enter the element to be deleted: 8\n",
      "Element 8 is deleted successfully\n",
      "Current List: [4, 1]\n"
     ]
    }
   ],
   "source": [
    "#Python program to delete an element from a list by index\n",
    "\n",
    "number = int(input(\"Enter the number of elements: \"))\n",
    "\n",
    "a = []\n",
    "\n",
    "for i in range(number):\n",
    "    num = int(input(f\"Enter element {i+1}: \"))\n",
    "    a.append(num)\n",
    "    \n",
    "n = int(input(\"Enter the element to be deleted: \"))\n",
    "\n",
    "def delete_element(a, n):\n",
    "    for i in range(len(a)):\n",
    "        if a[i] == n:\n",
    "            del a[i]  \n",
    "            return True\n",
    "    return False\n",
    "\n",
    "if delete_element(a, n):\n",
    "    print(f\"Element {n} is deleted successfully\")\n",
    "else:\n",
    "    print(f\"Element {n} is not found in the list\")\n",
    "    \n",
    "print(\"Current List:\", a)"
   ]
  },
  {
   "cell_type": "code",
   "execution_count": 21,
   "id": "bbd64e81",
   "metadata": {},
   "outputs": [
    {
     "name": "stdout",
     "output_type": "stream",
     "text": [
      "Enter the number of rows for matrix1: 2\n",
      "Enter the number of columns for matrix1: 2\n",
      "Enter the elements for matrix1:\n",
      "Enter element at position (1, 1): 1\n",
      "Enter element at position (1, 2): 2\n",
      "Enter element at position (2, 1): 0\n",
      "Enter element at position (2, 2): 4\n",
      "Enter the number of rows for matrix2: 3\n",
      "Enter the number of columns for matrix2: 2\n",
      "Enter the elements for matrix2:\n",
      "Enter element at position (1, 1): 1\n",
      "Enter element at position (1, 2): 0\n",
      "Enter element at position (2, 1): 2\n",
      "Enter element at position (2, 2): 1\n",
      "Enter element at position (3, 1): 5\n",
      "Enter element at position (3, 2): 1\n",
      "[2, 2]\n",
      "[2, 5]\n"
     ]
    }
   ],
   "source": [
    "matrix1 = []\n",
    "\n",
    "\n",
    "rows = int(input(\"Enter the number of rows for matrix1: \"))\n",
    "cols = int(input(\"Enter the number of columns for matrix1: \"))\n",
    "\n",
    "print(\"Enter the elements for matrix1:\")\n",
    "for i in range(rows):\n",
    "    row = []\n",
    "    for j in range(cols):\n",
    "        num = int(input(f\"Enter element at position ({i+1}, {j+1}): \"))\n",
    "        row.append(num)\n",
    "    matrix1.append(row)\n",
    "    \n",
    "matrix2 = []\n",
    "\n",
    "rows = int(input(\"Enter the number of rows for matrix2: \"))\n",
    "cols = int(input(\"Enter the number of columns for matrix2: \"))\n",
    "\n",
    "print(\"Enter the elements for matrix2:\")\n",
    "for i in range(rows):\n",
    "    row = []\n",
    "    for j in range(cols):\n",
    "        num = int(input(f\"Enter element at position ({i+1}, {j+1}): \"))\n",
    "        row.append(num)\n",
    "    matrix2.append(row)\n",
    "\n",
    "def matrix_addition(matrix1, matrix2):\n",
    "    rows = len(matrix1)\n",
    "    cols = len(matrix1[0])\n",
    "\n",
    "    result = [[0 for _ in range(cols)] for _ in range(rows)]\n",
    "\n",
    "    for i in range(rows):\n",
    "        for j in range(cols):\n",
    "            result[i][j] = matrix1[i][j] + matrix2[i][j]\n",
    "\n",
    "    return result\n",
    "\n",
    "result = matrix_addition(matrix1, matrix2)\n",
    "\n",
    "\n",
    "for row in result:           #print the result\n",
    "    print(row)\n"
   ]
  },
  {
   "cell_type": "code",
   "execution_count": 22,
   "id": "babf2174",
   "metadata": {},
   "outputs": [
    {
     "name": "stdout",
     "output_type": "stream",
     "text": [
      "Enter the number of rows for matrix1: 2\n",
      "Enter the number of columns for matrix1: 2\n",
      "Enter the elements for matrix1:\n",
      "Enter element at position (1, 1): 1\n",
      "Enter element at position (1, 2): 0\n",
      "Enter element at position (2, 1): 3\n",
      "Enter element at position (2, 2): 2\n",
      "Enter the number of rows for matrix2: 2\n",
      "Enter the number of columns for matrix2: 2\n",
      "Enter the elements for matrix2:\n",
      "Enter element at position (1, 1): 1\n",
      "Enter element at position (1, 2): 2\n",
      "Enter element at position (2, 1): 4\n",
      "Enter element at position (2, 2): 0\n",
      "[1, 2]\n",
      "[11, 6]\n"
     ]
    }
   ],
   "source": [
    "#Python program to implement matrix multiplication\n",
    "\n",
    "matrix1 = []\n",
    "\n",
    "rows1 = int(input(\"Enter the number of rows for matrix1: \"))\n",
    "cols1 = int(input(\"Enter the number of columns for matrix1: \"))\n",
    "\n",
    "\n",
    "print(\"Enter the elements for matrix1:\")\n",
    "for i in range(rows1):\n",
    "    row = []\n",
    "    for j in range(cols1):\n",
    "        num = int(input(f\"Enter element at position ({i+1}, {j+1}): \"))\n",
    "        row.append(num)\n",
    "    matrix1.append(row)\n",
    "\n",
    "\n",
    "matrix2 = []\n",
    "rows2 = int(input(\"Enter the number of rows for matrix2: \"))\n",
    "cols2 = int(input(\"Enter the number of columns for matrix2: \"))\n",
    "\n",
    "\n",
    "print(\"Enter the elements for matrix2:\")\n",
    "for i in range(rows2):\n",
    "    row = []\n",
    "    for j in range(cols2):\n",
    "        num = int(input(f\"Enter element at position ({i+1}, {j+1}): \"))\n",
    "        row.append(num)\n",
    "    matrix2.append(row)\n",
    "\n",
    "\n",
    "def matrix_multiplication(matrix1, matrix2):\n",
    "    rows1 = len(matrix1)\n",
    "    cols1 = len(matrix1[0])\n",
    "    rows2 = len(matrix2)\n",
    "    cols2 = len(matrix2[0])\n",
    "\n",
    "    if cols1 != rows2:\n",
    "        print(\"The number of columns of matrix1 should be equal to the number of rows in matrix2.\")\n",
    "        return None\n",
    "\n",
    "    result = [[0 for _ in range(cols2)] for _ in range(rows1)]\n",
    "\n",
    "    for i in range(rows1):\n",
    "        for j in range(cols2):\n",
    "            for k in range(cols1):\n",
    "                result[i][j] += matrix1[i][k] * matrix2[k][j]\n",
    "\n",
    "    return result\n",
    "\n",
    "\n",
    "result = matrix_multiplication(matrix1, matrix2)\n",
    "\n",
    "# Print the result\n",
    "if result:\n",
    "    for row in result:\n",
    "        print(row)\n"
   ]
  },
  {
   "cell_type": "code",
   "execution_count": 23,
   "id": "849aa394",
   "metadata": {},
   "outputs": [
    {
     "name": "stdout",
     "output_type": "stream",
     "text": [
      "Enter a year: 2020\n",
      "2020 is a leap year\n"
     ]
    }
   ],
   "source": [
    "# Leap year checking\n",
    "\n",
    "year = int(input(\"Enter a year: \"))\n",
    "\n",
    "def leap_year(year):\n",
    "    if year % 4 == 0:\n",
    "        if year % 100 == 0:\n",
    "            if year % 400 == 0:\n",
    "                return True  # Divisible by 400, so it's a leap year\n",
    "            else:\n",
    "                return False  # Divisible by 100 but not by 400, so it's not a leap year\n",
    "        else:\n",
    "            return True  # Divisible by 4 but not by 100, so it's a leap year\n",
    "    else:\n",
    "        return False  # Not divisible by 4, so it's not a leap year\n",
    "\n",
    "\n",
    "\n",
    "\n",
    "if leap_year(year):\n",
    "    print(f\"{year} is a leap year\")\n",
    "else:\n",
    "    print(f\"{year} is not a leap year\")\n"
   ]
  },
  {
   "cell_type": "code",
   "execution_count": 26,
   "id": "49d6c192",
   "metadata": {},
   "outputs": [
    {
     "name": "stdout",
     "output_type": "stream",
     "text": [
      "Enter the Nth term :5\n",
      "\n",
      " 5th term of Fibonacci series is: 3\n"
     ]
    }
   ],
   "source": [
    "#Python program to find the Nth term in a Fibonacci series using recursion.\n",
    "\n",
    "n_th_term=int(input(\"Enter the Nth term :\"))\n",
    "\n",
    "def fibonacci(n):\n",
    "    if n==1:\n",
    "        return 0\n",
    "    elif n==2:\n",
    "        return 1\n",
    "    else:\n",
    "        return fib(n-1) + fib(n-2)\n",
    "\n",
    "\n",
    "\n",
    "result = fibonacci(n_th_term)\n",
    "print(\"\\n %dth term of Fibonacci series is: %d\" %(n_th_term, result))\n"
   ]
  },
  {
   "cell_type": "code",
   "execution_count": 30,
   "id": "44b90cba",
   "metadata": {},
   "outputs": [
    {
     "name": "stdout",
     "output_type": "stream",
     "text": [
      "Enter the number of items in a dictionary: 2\n",
      "Enter items 1: pen\n",
      "Enter items 2: pencil\n",
      "['pen', 'pencil']\n"
     ]
    }
   ],
   "source": [
    "#Python program to print all the items in a dictionary.\n",
    "\n",
    "n = int(input(\"Enter the number of items in a dictionary: \"))\n",
    "\n",
    "d = []\n",
    "\n",
    "for i in range(n):\n",
    "    items = input(f\"Enter items {i+1}: \")\n",
    "    d.append(items)\n",
    "\n",
    "print(d)"
   ]
  },
  {
   "cell_type": "code",
   "execution_count": 9,
   "id": "2b40c1b6",
   "metadata": {},
   "outputs": [],
   "source": [
    "#Python program to draw a circle of squares using Turtle\n",
    "\n",
    "import turtle\n",
    "t = turtle.Turtle()\n",
    "  \n",
    "r = 80\n",
    "t.circle(r)\n",
    "\n"
   ]
  }
 ],
 "metadata": {
  "kernelspec": {
   "display_name": "Python 3 (ipykernel)",
   "language": "python",
   "name": "python3"
  },
  "language_info": {
   "codemirror_mode": {
    "name": "ipython",
    "version": 3
   },
   "file_extension": ".py",
   "mimetype": "text/x-python",
   "name": "python",
   "nbconvert_exporter": "python",
   "pygments_lexer": "ipython3",
   "version": "3.10.9"
  }
 },
 "nbformat": 4,
 "nbformat_minor": 5
}
