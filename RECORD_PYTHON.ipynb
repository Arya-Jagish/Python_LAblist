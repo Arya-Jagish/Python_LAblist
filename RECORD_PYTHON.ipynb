{
 "cells": [
  {
   "cell_type": "code",
   "execution_count": 2,
   "id": "66aff441",
   "metadata": {},
   "outputs": [
    {
     "name": "stdout",
     "output_type": "stream",
     "text": [
      "Enter first number:20\n",
      "Enter second number:13\n",
      "1.Add\n",
      " 2.Subtract\n",
      " 3.Multiply\n",
      " 4.Division\n",
      "\n",
      "Enter your choice:2\n",
      "7\n"
     ]
    }
   ],
   "source": [
    "#Create a simple calculator in Python.\n",
    "\n",
    "a=int(input(\"Enter first number:\"))\n",
    "b=int(input(\"Enter second number:\"))\n",
    "print(\"1.Add\\n 2.Subtract\\n 3.Multiply\\n 4.Division\\n\")\n",
    "ch=int(input(\"Enter your choice:\"))\n",
    "if ch==1:\n",
    "    sum=int(a+b)\n",
    "    print(sum)\n",
    "elif ch==2:\n",
    "    sub=int(a-b)\n",
    "    print(sub)\n",
    "elif ch==3:\n",
    "    mult=int(a*b)\n",
    "    print(mult)\n",
    "elif ch==4:\n",
    "    div=int(a/b)\n",
    "    print(div)\n"
   ]
  },
  {
   "cell_type": "code",
   "execution_count": 5,
   "id": "d1d11785",
   "metadata": {},
   "outputs": [
    {
     "name": "stdout",
     "output_type": "stream",
     "text": [
      "Enter the rate of charge:250\n",
      "Final Amount will be: 162.5\n"
     ]
    }
   ],
   "source": [
    "#An electric power distribution company charges domestic customers as follows:\n",
    "#Consumption unit Rate of charge:\n",
    "#●0-200 Rs .0.50 per unit.\n",
    "#●201-400 Rs. 0.65 per unit in excess of 200.\n",
    "#●401-600 Rs 0.80 per unit in excess of 400.\n",
    "#●601 and above Rs 1.00 per unit in excess of 600.\n",
    "#●If the bill exceeds Rs. 400, then a surcharge of 15% will be charged, and the minimum bill should be Rs. 100/-\n",
    "#Create a python program based on the scenario mentioned above.\n",
    "\n",
    "Rate=int(input(\"Enter the rate of charge:\"))\n",
    "if(Rate>=0 and Rate<=200):\n",
    "    Charge=Rate*0.50\n",
    "elif(Rate>=201 and Rate<=400):\n",
    "    Charge=Rate*0.65\n",
    "elif(Rate>=401 and Rate<=600):\n",
    "    Charge=Rate*0.80\n",
    "elif(Rate>=601):\n",
    "    Charge=Rate*1\n",
    "if (Charge>400):\n",
    "    Total=Charge+Charge*(15/100)\n",
    "elif(Charge<=100):\n",
    "    Total=Charge\n",
    "else:\n",
    "    Total=Charge\n",
    "    \n",
    "print(\"Final Amount will be:\",+Total)\n",
    "    "
   ]
  },
  {
   "cell_type": "code",
   "execution_count": 14,
   "id": "e3213d93",
   "metadata": {},
   "outputs": [
    {
     "name": "stdout",
     "output_type": "stream",
     "text": [
      "Enter the Number of loops to be printed:5\n",
      "1 \n",
      "1 2 \n",
      "1 2 3 \n",
      "1 2 3 4 \n",
      "1 2 3 4 5 \n"
     ]
    }
   ],
   "source": [
    "# Print the Pyramid of numbers using for loops.\n",
    "n=int(input(\"Enter the Number of loops to be printed:\"))\n",
    "for i in range(0,n):\n",
    "    for j in range(0,i+1):\n",
    "         print(j+1, end=\" \")\n",
    "    print(\"\")\n",
    "        \n",
    "    "
   ]
  },
  {
   "cell_type": "code",
   "execution_count": 18,
   "id": "1d3dfd8d",
   "metadata": {},
   "outputs": [
    {
     "name": "stdout",
     "output_type": "stream",
     "text": [
      "count of the number is: 14\n",
      "Sum of the number is: 2107\n"
     ]
    }
   ],
   "source": [
    "#Write a program to find the number of and sum of all integers greater than 100 and less than 200 that are divisible by 7.\n",
    "\n",
    "sum=0\n",
    "count=0\n",
    "for i in range(100,200):\n",
    "    if (i%7==0):\n",
    "        count=count+1\n",
    "        sum+=i\n",
    "print(\"count of the number is:\",+count)\n",
    "print(\"Sum of the number is:\",+sum)\n",
    "    \n",
    "        "
   ]
  },
  {
   "cell_type": "code",
   "execution_count": 24,
   "id": "19f42aa9",
   "metadata": {},
   "outputs": [
    {
     "name": "stdout",
     "output_type": "stream",
     "text": [
      "Enter n:10\n"
     ]
    },
    {
     "data": {
      "text/plain": [
       "55"
      ]
     },
     "execution_count": 24,
     "metadata": {},
     "output_type": "execute_result"
    }
   ],
   "source": [
    "#Write a recursive function to calculate the sum of numbers from 0 to 10\n",
    "\n",
    "n=int(input(\"Enter n:\"))\n",
    "def sum(n):\n",
    "    if n<=0:\n",
    "        return n\n",
    "    else:\n",
    "        return n+sum(n-1)\n",
    "sum(n)\n",
    "        \n",
    "    "
   ]
  },
  {
   "cell_type": "code",
   "execution_count": 13,
   "id": "cc558050",
   "metadata": {},
   "outputs": [
    {
     "name": "stdout",
     "output_type": "stream",
     "text": [
      "Enter the number:5\n",
      "{5: 120}\n"
     ]
    }
   ],
   "source": [
    "#Write a function to find the factorial of a number but also store the factorials calculated in a dictionary.\n",
    "\n",
    "num=dict()\n",
    "def fact(n):\n",
    "    temp,factorial=n,1\n",
    "    while(temp)>1:\n",
    "        factorial*=temp\n",
    "        temp-=1\n",
    "    num[n]=factorial\n",
    "    return factorial\n",
    "n=int(input(\"Enter the number:\"))\n",
    "fact(n)\n",
    "print(num)"
   ]
  },
  {
   "cell_type": "code",
   "execution_count": 17,
   "id": "1d4047d6",
   "metadata": {},
   "outputs": [
    {
     "name": "stdout",
     "output_type": "stream",
     "text": [
      "Union: {1, 2, 3, 4, 5, 6, 7, 8}\n",
      "Difference: {1, 2, 3}\n",
      "Intersection: {4, 5}\n"
     ]
    }
   ],
   "source": [
    "#Perform various set operations Set Union Set Intersection ,Set Difference\n",
    "\n",
    "def set(s1,s2):\n",
    "    print(\"Union:\", s1.union(b))\n",
    "    print(\"Difference:\", s1.difference(s2))\n",
    "    print(\"Intersection:\", s1.intersection(s2))\n",
    "\n",
    "a = {1,2,3,4,5}\n",
    "b = {4,5,6,7,8}\n",
    "set(a,b)\n",
    "    \n"
   ]
  },
  {
   "cell_type": "code",
   "execution_count": 9,
   "id": "27868659",
   "metadata": {},
   "outputs": [
    {
     "name": "stdout",
     "output_type": "stream",
     "text": [
      "Enter the number: 125\n",
      "The number is a palindrome: 646\n"
     ]
    }
   ],
   "source": [
    "#Write a Python program to reverse the digits of a given number and add it to the original, \n",
    "#If the sum is not a palindrome repeat this procedure.\n",
    "\n",
    "def rev(n):\n",
    "    reverse = 0\n",
    "    while n != 0:\n",
    "        remainder = n % 10\n",
    "        reverse = reverse * 10 + remainder\n",
    "        n //= 10\n",
    "    return reverse\n",
    "\n",
    "def palin(n):\n",
    "    if rev(n) == n:\n",
    "        return True\n",
    "    else:\n",
    "        return False\n",
    "    \n",
    "def Add(n):\n",
    "    while True:\n",
    "        reverse = rev(n) # Reversing the digits of the number\n",
    "        n = n + reverse # Adding the reversed number with the original\n",
    "        if palin(n): # Checking whether the number is palindrome or not\n",
    "            print(\"The number is a palindrome:\", n)\n",
    "            break\n",
    "        else:\n",
    "            print (\"No palindrome exist\")\n",
    " \n",
    "\n",
    "n = int(input(\"Enter the number: \"))\n",
    "Add(n)\n"
   ]
  },
  {
   "cell_type": "code",
   "execution_count": 2,
   "id": "6d7e9f39",
   "metadata": {},
   "outputs": [
    {
     "name": "stdout",
     "output_type": "stream",
     "text": [
      "\n",
      "--- String Operations Menu ---\n",
      "A) Check String is Substring of Another String\n",
      "B) Count Occurrences of Character\n",
      "C) Replace a Substring with Another Substring\n",
      "D) Convert to Capital Letters\n",
      "E) Exit\n",
      "Enter your choice (A/B/C/D/E): A\n",
      "Enter the main string: Arya \n",
      "Enter the substring to check: rya\n",
      "s2 is a substring of s1\n",
      "\n",
      "--- String Operations Menu ---\n",
      "A) Check String is Substring of Another String\n",
      "B) Count Occurrences of Character\n",
      "C) Replace a Substring with Another Substring\n",
      "D) Convert to Capital Letters\n",
      "E) Exit\n",
      "Enter your choice (A/B/C/D/E): V\n",
      "Invalid choice. Please select a valid option (A/B/C/D/E).\n",
      "\n",
      "--- String Operations Menu ---\n",
      "A) Check String is Substring of Another String\n",
      "B) Count Occurrences of Character\n",
      "C) Replace a Substring with Another Substring\n",
      "D) Convert to Capital Letters\n",
      "E) Exit\n",
      "Enter your choice (A/B/C/D/E): B\n",
      "Enter the string: Arya Jagish Arya\n",
      "Enter the character to count: Arya\n",
      "2\n",
      "\n",
      "--- String Operations Menu ---\n",
      "A) Check String is Substring of Another String\n",
      "B) Count Occurrences of Character\n",
      "C) Replace a Substring with Another Substring\n",
      "D) Convert to Capital Letters\n",
      "E) Exit\n",
      "Enter your choice (A/B/C/D/E): C\n",
      "Enter the string: Arya Jagish\n",
      "Enter the substring to replace: Arya\n",
      "Enter the new substring: Rishikesh\n",
      "Rishikesh Jagish\n",
      "\n",
      "--- String Operations Menu ---\n",
      "A) Check String is Substring of Another String\n",
      "B) Count Occurrences of Character\n",
      "C) Replace a Substring with Another Substring\n",
      "D) Convert to Capital Letters\n",
      "E) Exit\n",
      "Enter your choice (A/B/C/D/E): D\n",
      "Enter the string: Arya Jagish\n",
      "ARYA JAGISH\n",
      "\n",
      "--- String Operations Menu ---\n",
      "A) Check String is Substring of Another String\n",
      "B) Count Occurrences of Character\n",
      "C) Replace a Substring with Another Substring\n",
      "D) Convert to Capital Letters\n",
      "E) Exit\n",
      "Enter your choice (A/B/C/D/E): E\n"
     ]
    }
   ],
   "source": [
    "#Write a menu-driven program that performs the following operations on strings\n",
    "#Check String is Substring of Another String\n",
    "#Count Occurrences of Character\n",
    "#Replace a substring with another substring\n",
    "#Convert to Capital Letters\n",
    "\n",
    "def check():\n",
    "    x = input(\"Enter the main string: \")\n",
    "    y = input(\"Enter the substring to check: \")\n",
    "    if y in x:\n",
    "        print(\"s2 is a substring of s1\")\n",
    "    else:\n",
    "        print(\"s2 is not a substring of s1\")\n",
    "\n",
    "def count():\n",
    "    string = input(\"Enter the string: \")\n",
    "    char = input(\"Enter the character to count: \")\n",
    "    count = string.count(char)\n",
    "    print(count)\n",
    "\n",
    "def replace():\n",
    "    string = input(\"Enter the string: \")\n",
    "    old= input(\"Enter the substring to replace: \")\n",
    "    new= input(\"Enter the new substring: \")\n",
    "    new_string = string.replace(old, new)\n",
    "    print(new_string)\n",
    "\n",
    "def convert():\n",
    "    string = input(\"Enter the string: \")\n",
    "    capital_string = string.upper()\n",
    "    print(capital_string)\n",
    "\n",
    "while True:\n",
    "    print(\"\\n--- String Operations Menu ---\")\n",
    "    print(\"A) Check String is Substring of Another String\")\n",
    "    print(\"B) Count Occurrences of Character\")\n",
    "    print(\"C) Replace a Substring with Another Substring\")\n",
    "    print(\"D) Convert to Capital Letters\")\n",
    "    print(\"E) Exit\")\n",
    "\n",
    "    choice = input(\"Enter your choice (A/B/C/D/E): \").upper()\n",
    "\n",
    "    if choice == \"A\":\n",
    "        check()\n",
    "    elif choice == \"B\":\n",
    "        count()\n",
    "    elif choice == \"C\":\n",
    "        replace()\n",
    "    elif choice == \"D\":\n",
    "        convert()\n",
    "    elif choice == \"E\":\n",
    "        break\n",
    "    else:\n",
    "        print(\"Invalid choice. Please select a valid option (A/B/C/D/E).\")\n"
   ]
  },
  {
   "cell_type": "code",
   "execution_count": 19,
   "id": "114c521f",
   "metadata": {},
   "outputs": [
    {
     "name": "stdout",
     "output_type": "stream",
     "text": [
      "Enter the number of students: 2\n",
      "Enter student name: arya\n",
      "Enter roll number: 24\n",
      "Enter total marks: 122\n",
      "Enter student name: rishi\n",
      "Enter roll number: 42\n",
      "Enter total marks: 234\n",
      "Student with highest total marks:\n",
      "Name: rishi\n"
     ]
    }
   ],
   "source": [
    "#Create a dictionary to store the name, roll_no, total_mark of N students. \n",
    "#Now print the details of the student who has got the highest total_mark.\n",
    "\n",
    "def stu_details():\n",
    "    stu_details = {}\n",
    "    n = int(input(\"Enter the number of students: \"))\n",
    "    \n",
    "    for i in range(n):\n",
    "        name = input(\"Enter student name: \")\n",
    "        roll_no = input(\"Enter roll number: \")\n",
    "        total_mark = float(input(\"Enter total marks: \"))\n",
    "        \n",
    "        stu_details[roll_no] = {'name': name, 'total_mark': total_mark}\n",
    "    return stu_details\n",
    "\n",
    "stu_dict = stu_details()\n",
    "\n",
    "high_mark = -1\n",
    "high_mark_student = None\n",
    "\n",
    "for roll_no, details in stu_dict.items():\n",
    "    if details['total_mark'] > high_mark:\n",
    "        high_mark = details['total_mark']\n",
    "        high_mark_student = details\n",
    "\n",
    "# Print details of student with highest total_mark\n",
    "if high_mark_student:\n",
    "    print(\"Student with highest total marks:\")\n",
    "    print(\"Name:\", high_mark_student['name'])\n",
    "else:\n",
    "    print(\"No student details found.\")\n",
    "\n",
    "    "
   ]
  },
  {
   "cell_type": "code",
   "execution_count": null,
   "id": "23bd7772",
   "metadata": {},
   "outputs": [],
   "source": []
  }
 ],
 "metadata": {
  "kernelspec": {
   "display_name": "Python 3 (ipykernel)",
   "language": "python",
   "name": "python3"
  },
  "language_info": {
   "codemirror_mode": {
    "name": "ipython",
    "version": 3
   },
   "file_extension": ".py",
   "mimetype": "text/x-python",
   "name": "python",
   "nbconvert_exporter": "python",
   "pygments_lexer": "ipython3",
   "version": "3.11.4"
  }
 },
 "nbformat": 4,
 "nbformat_minor": 5
}
