{
 "cells": [
  {
   "cell_type": "code",
   "execution_count": 1,
   "id": "afd6b353",
   "metadata": {},
   "outputs": [
    {
     "name": "stdout",
     "output_type": "stream",
     "text": [
      "Matrix A:\n",
      "[[1 2 3]\n",
      " [4 5 6]]\n",
      "\n",
      "Matrix B:\n",
      "[[ 7  8]\n",
      " [ 9 10]\n",
      " [11 12]]\n",
      "\n",
      "Result of Matrix Multiplication A * B:\n",
      "[[ 58  64]\n",
      " [139 154]]\n"
     ]
    }
   ],
   "source": [
    "import numpy as np\n",
    "\n",
    "# Define two matrices A and B\n",
    "A = np.array([[1, 2, 3],\n",
    "              [4, 5, 6]])\n",
    "\n",
    "B = np.array([[7, 8],\n",
    "              [9, 10],\n",
    "              [11, 12]])\n",
    "\n",
    "# Perform matrix multiplication using np.dot()\n",
    "result = np.dot(A, B)\n",
    "\n",
    "# Alternatively, you can use the @ operator for matrix multiplication\n",
    "# result = A @ B\n",
    "\n",
    "# Display the result\n",
    "print(\"Matrix A:\")\n",
    "print(A)\n",
    "\n",
    "print(\"\\nMatrix B:\")\n",
    "print(B)\n",
    "\n",
    "print(\"\\nResult of Matrix Multiplication A * B:\")\n",
    "print(result)\n"
   ]
  },
  {
   "cell_type": "code",
   "execution_count": 2,
   "id": "b47285f9",
   "metadata": {},
   "outputs": [
    {
     "name": "stdout",
     "output_type": "stream",
     "text": [
      "Matrix A:\n",
      "[[1.+2.j 3.+4.j]\n",
      " [5.+6.j 7.+8.j]]\n",
      "\n",
      "Matrix B:\n",
      "[[ 9.+10.j 11.+12.j]\n",
      " [13.+14.j 15.+16.j]]\n",
      "\n",
      "Result of Matrix Multiplication A * B:\n",
      "[[-28.+122.j -32.+142.j]\n",
      " [-36.+306.j -40.+358.j]]\n"
     ]
    }
   ],
   "source": [
    "import numpy as np\n",
    "\n",
    "# Define two matrices A and B with complex numbers\n",
    "A = np.array([[1 + 2j, 3 + 4j],\n",
    "              [5 + 6j, 7 + 8j]])\n",
    "\n",
    "B = np.array([[9 + 10j, 11 + 12j],\n",
    "              [13 + 14j, 15 + 16j]])\n",
    "\n",
    "# Perform matrix multiplication using np.dot()\n",
    "result = np.dot(A, B)\n",
    "\n",
    "# Alternatively, you can use the @ operator for matrix multiplication\n",
    "# result = A @ B\n",
    "\n",
    "# Display the result\n",
    "print(\"Matrix A:\")\n",
    "print(A)\n",
    "\n",
    "print(\"\\nMatrix B:\")\n",
    "print(B)\n",
    "\n",
    "print(\"\\nResult of Matrix Multiplication A * B:\")\n",
    "print(result)\n"
   ]
  },
  {
   "cell_type": "code",
   "execution_count": 3,
   "id": "8a6e854a",
   "metadata": {},
   "outputs": [
    {
     "name": "stdout",
     "output_type": "stream",
     "text": [
      "Inner Product (Dot Product): 32\n"
     ]
    }
   ],
   "source": [
    "import numpy as np\n",
    "\n",
    "# Define two vectors\n",
    "vector1 = np.array([1, 2, 3])\n",
    "vector2 = np.array([4, 5, 6])\n",
    "\n",
    "# Calculate the inner product (dot product)\n",
    "inner_product = np.dot(vector1, vector2)\n",
    "\n",
    "# Alternatively, you can use the \"@\" operator for dot product\n",
    "# inner_product = vector1 @ vector2\n",
    "\n",
    "print(\"Inner Product (Dot Product):\", inner_product)\n"
   ]
  },
  {
   "cell_type": "code",
   "execution_count": 4,
   "id": "5c562a87",
   "metadata": {},
   "outputs": [
    {
     "name": "stdout",
     "output_type": "stream",
     "text": [
      "Outer Product (Tensor Product):\n",
      " [[ 4  5  6]\n",
      " [ 8 10 12]\n",
      " [12 15 18]]\n"
     ]
    }
   ],
   "source": [
    "import numpy as np\n",
    "\n",
    "# Define two vectors\n",
    "vector1 = np.array([1, 2, 3])\n",
    "vector2 = np.array([4, 5, 6])\n",
    "\n",
    "# Calculate the outer product (tensor product)\n",
    "outer_product = np.outer(vector1, vector2)\n",
    "\n",
    "print(\"Outer Product (Tensor Product):\\n\", outer_product)\n"
   ]
  },
  {
   "cell_type": "code",
   "execution_count": 5,
   "id": "8aece451",
   "metadata": {},
   "outputs": [
    {
     "name": "stdout",
     "output_type": "stream",
     "text": [
      "Cross Product (Vector Product):\n",
      " [-3  6 -3]\n"
     ]
    }
   ],
   "source": [
    "import numpy as np\n",
    "\n",
    "# Define two 3D vectors\n",
    "vector1 = np.array([1, 2, 3])\n",
    "vector2 = np.array([4, 5, 6])\n",
    "\n",
    "# Calculate the cross product (vector product)\n",
    "cross_product = np.cross(vector1, vector2)\n",
    "\n",
    "print(\"Cross Product (Vector Product):\\n\", cross_product)\n"
   ]
  },
  {
   "cell_type": "code",
   "execution_count": 6,
   "id": "d80ff896",
   "metadata": {},
   "outputs": [
    {
     "name": "stdout",
     "output_type": "stream",
     "text": [
      "Covariance Matrix:\n",
      " [[ 2.5 -2.5]\n",
      " [-2.5  2.5]]\n"
     ]
    }
   ],
   "source": [
    "import numpy as np\n",
    "\n",
    "# Define two NumPy arrays (you can replace these with your own data)\n",
    "array1 = np.array([1, 2, 3, 4, 5])\n",
    "array2 = np.array([5, 4, 3, 2, 1])\n",
    "\n",
    "# Compute the covariance matrix\n",
    "covariance_matrix = np.cov(array1, array2)\n",
    "\n",
    "print(\"Covariance Matrix:\\n\", covariance_matrix)\n"
   ]
  },
  {
   "cell_type": "code",
   "execution_count": 7,
   "id": "7ce8bff8",
   "metadata": {},
   "outputs": [
    {
     "name": "stdout",
     "output_type": "stream",
     "text": [
      "Covariance Matrix:\n",
      " [[1. 2.]\n",
      " [2. 4.]]\n",
      "\n",
      "Standard Deviations: [1. 2.]\n",
      "\n",
      "Correlation Matrix:\n",
      " [[1. 1.]\n",
      " [1. 1.]]\n"
     ]
    }
   ],
   "source": [
    "import numpy as np\n",
    "\n",
    "# Define the covariance matrix (replace with your own data)\n",
    "covariance_matrix = np.array([[1.0, 2.0],\n",
    "                              [2.0, 4.0]])\n",
    "\n",
    "# Calculate the standard deviations of the variables\n",
    "std_devs = np.sqrt(np.diag(covariance_matrix))\n",
    "\n",
    "# Calculate the correlation matrix\n",
    "correlation_matrix = covariance_matrix / np.outer(std_devs, std_devs)\n",
    "\n",
    "print(\"Covariance Matrix:\\n\", covariance_matrix)\n",
    "print(\"\\nStandard Deviations:\", std_devs)\n",
    "print(\"\\nCorrelation Matrix:\\n\", correlation_matrix)\n"
   ]
  },
  {
   "cell_type": "code",
   "execution_count": null,
   "id": "7e84758a",
   "metadata": {},
   "outputs": [],
   "source": []
  }
 ],
 "metadata": {
  "kernelspec": {
   "display_name": "Python 3 (ipykernel)",
   "language": "python",
   "name": "python3"
  },
  "language_info": {
   "codemirror_mode": {
    "name": "ipython",
    "version": 3
   },
   "file_extension": ".py",
   "mimetype": "text/x-python",
   "name": "python",
   "nbconvert_exporter": "python",
   "pygments_lexer": "ipython3",
   "version": "3.11.4"
  }
 },
 "nbformat": 4,
 "nbformat_minor": 5
}
