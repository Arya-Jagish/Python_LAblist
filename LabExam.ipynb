{
 "cells": [
  {
   "cell_type": "code",
   "execution_count": 3,
   "id": "43e8170e",
   "metadata": {},
   "outputs": [],
   "source": [
    "# Database Connectivity\n",
    "\n",
    "import mysql.connector\n",
    "\n",
    "mydb=mysql.connector.connect(\n",
    "    host=\"localhost\",\n",
    "    user=\"root\",\n",
    "    password=\"\"\n",
    ")\n",
    "\n",
    "mycursor=mydb.cursor()\n",
    "mycursor.execute(\"Create Database mydbs\")"
   ]
  },
  {
   "cell_type": "code",
   "execution_count": 4,
   "id": "540a7fb7",
   "metadata": {},
   "outputs": [
    {
     "name": "stdout",
     "output_type": "stream",
     "text": [
      "('information_schema',)\n",
      "('mydatabase',)\n",
      "('mydbs',)\n",
      "('mysql',)\n",
      "('performance_schema',)\n",
      "('phpmyadmin',)\n",
      "('test',)\n"
     ]
    }
   ],
   "source": [
    "import mysql.connector\n",
    "\n",
    "mydb=mysql.connector.connect(\n",
    "    host=\"localhost\",\n",
    "    user=\"root\",\n",
    "    password=\"\"\n",
    ")\n",
    "\n",
    "mycursor=mydb.cursor()\n",
    "mycursor.execute(\"SHOW DATABASES\")\n",
    "\n",
    "for x in mycursor:\n",
    "    print(x)"
   ]
  },
  {
   "cell_type": "code",
   "execution_count": 6,
   "id": "34df188c",
   "metadata": {},
   "outputs": [],
   "source": [
    "import mysql.connector\n",
    "\n",
    "mydb=mysql.connector.connect(\n",
    "    host=\"localhost\",\n",
    "    user=\"root\",\n",
    "    password=\"\",\n",
    "    database=\"mydbs\"\n",
    ")\n",
    "\n",
    "mycursor=mydb.cursor()\n",
    "mycursor.execute(\"Create table Students (id INT AUTO_INCREMENT PRIMARY KEY,name varchar(244),address varchar (300))\")"
   ]
  },
  {
   "cell_type": "code",
   "execution_count": 7,
   "id": "65554c60",
   "metadata": {},
   "outputs": [
    {
     "name": "stdout",
     "output_type": "stream",
     "text": [
      "('students',)\n"
     ]
    }
   ],
   "source": [
    "import mysql.connector\n",
    "\n",
    "mydb=mysql.connector.connect(\n",
    "    host=\"localhost\",\n",
    "    user=\"root\",\n",
    "    password=\"\",\n",
    "    database=\"mydbs\"\n",
    ")\n",
    "\n",
    "mycursor=mydb.cursor()\n",
    "mycursor.execute(\"Show Tables\")\n",
    "\n",
    "for x in mycursor:\n",
    "    print(x)"
   ]
  },
  {
   "cell_type": "code",
   "execution_count": 9,
   "id": "0d7237ad",
   "metadata": {},
   "outputs": [
    {
     "name": "stdout",
     "output_type": "stream",
     "text": [
      "1 record inserted.\n"
     ]
    }
   ],
   "source": [
    "import mysql.connector\n",
    "\n",
    "mydb=mysql.connector.connect(\n",
    "    host=\"localhost\",\n",
    "    user=\"root\",\n",
    "    password=\"\",\n",
    "    database=\"mydbs\"\n",
    ")\n",
    "\n",
    "mycursor=mydb.cursor()\n",
    "\n",
    "sql=\"insert into Students (Name,Address) values(%s,%s)\"\n",
    "val=(\"Arya\",\"KKK\")\n",
    "\n",
    "mycursor.execute(sql,val)\n",
    "\n",
    "mydb.commit()\n",
    "\n",
    "print(mycursor.rowcount,\"record inserted.\")"
   ]
  },
  {
   "cell_type": "code",
   "execution_count": 14,
   "id": "0c81ca9e",
   "metadata": {},
   "outputs": [
    {
     "name": "stdout",
     "output_type": "stream",
     "text": [
      "1 Record updated\n"
     ]
    }
   ],
   "source": [
    "import mysql.connector\n",
    "\n",
    "mydb=mysql.connector.connect(\n",
    "    host=\"localhost\",\n",
    "    user=\"root\",\n",
    "    password=\"\",\n",
    "    database=\"mydbs\"\n",
    "\n",
    ")\n",
    "\n",
    "mycursor=mydb.cursor()\n",
    "\n",
    "mycursor.execute(\"Update Students set Name='Rishi' where name='Arya'\")\n",
    "\n",
    "mydb.commit()\n",
    "\n",
    "print(mycursor.rowcount,\"Record updated\")\n",
    "                 "
   ]
  },
  {
   "cell_type": "code",
   "execution_count": 15,
   "id": "8df7823c",
   "metadata": {},
   "outputs": [],
   "source": [
    "import mysql.connector\n",
    "\n",
    "mydb=mysql.connector.connect(\n",
    "    host=\"localhost\",\n",
    "    user=\"root\",\n",
    "    password=\"\",\n",
    "    database=\"mydbs\"\n",
    "\n",
    ")\n",
    "\n",
    "mycursor=mydb.cursor()\n",
    "\n",
    "mycursor.execute(\"Delete from Students where Name='Rishi'\")\n",
    "\n",
    "mydb.commit()\n",
    "\n"
   ]
  },
  {
   "cell_type": "code",
   "execution_count": 18,
   "id": "a1dfc4a7",
   "metadata": {},
   "outputs": [
    {
     "name": "stdout",
     "output_type": "stream",
     "text": [
      "4 record inserted.\n"
     ]
    }
   ],
   "source": [
    "import mysql.connector\n",
    "\n",
    "mydb=mysql.connector.connect(\n",
    "    host=\"localhost\",\n",
    "    user=\"root\",\n",
    "    password=\"\",\n",
    "    database=\"mydbs\"\n",
    ")\n",
    "\n",
    "mycursor=mydb.cursor()\n",
    "\n",
    "sql=\"insert into Students (Name,Address) values(%s,%s)\"\n",
    "val=[\n",
    "    ('Arya','KKK'),\n",
    "    ('Ramu','KKO'),\n",
    "    ('Jino','UYY'),\n",
    "    ('Jeru','RTY')\n",
    "]\n",
    "\n",
    "mycursor.executemany(sql,val)\n",
    "\n",
    "mydb.commit()\n",
    "\n",
    "print(mycursor.rowcount,\"record inserted.\")"
   ]
  },
  {
   "cell_type": "code",
   "execution_count": 19,
   "id": "597754a5",
   "metadata": {},
   "outputs": [
    {
     "name": "stdout",
     "output_type": "stream",
     "text": [
      "(2, 'Arya', 'KKK')\n",
      "(3, 'Ramu', 'KKO')\n",
      "(4, 'Jino', 'UYY')\n",
      "(5, 'Jeru', 'RTY')\n"
     ]
    }
   ],
   "source": [
    "import mysql.connector\n",
    "\n",
    "mydb=mysql.connector.connect(\n",
    "    host=\"localhost\",\n",
    "    user=\"root\",\n",
    "    password=\"\",\n",
    "    database=\"mydbs\"\n",
    ")\n",
    "\n",
    "mycursor=mydb.cursor()\n",
    "\n",
    "mycursor.execute(\"Select * from Students\")\n",
    "\n",
    "myresult=mycursor.fetchall()\n",
    "\n",
    "\n",
    "for x in myresult:\n",
    "    print(x)"
   ]
  },
  {
   "cell_type": "code",
   "execution_count": 24,
   "id": "6b7e671b",
   "metadata": {},
   "outputs": [
    {
     "name": "stdout",
     "output_type": "stream",
     "text": [
      "[1]\n",
      "[1 1]\n",
      "[1 1 1]\n"
     ]
    }
   ],
   "source": [
    "# 4.1.1.\tCreate a numpy array filled with all ones by defining its shape.\n",
    "\n",
    "import numpy as np\n",
    "\n",
    "a=np.ones(1,dtype=int)\n",
    "print(a)\n",
    "b=np.ones(2,dtype=int)\n",
    "print(b)\n",
    "c=np.ones(3,dtype=int)\n",
    "print(c)"
   ]
  },
  {
   "cell_type": "code",
   "execution_count": 36,
   "id": "ad5925a6",
   "metadata": {},
   "outputs": [
    {
     "name": "stdout",
     "output_type": "stream",
     "text": [
      "[[12. 23. 45. 90.]\n",
      " [67. nan nan nan]]\n",
      "[[12. 23. 45. 90.]]\n"
     ]
    }
   ],
   "source": [
    "# 4.1.2.\tHow do you remove rows from a Numpy array that contains non-numeric values\n",
    "\n",
    "import numpy as np\n",
    "\n",
    "n_arr=np.array([[12,23,45,90],[67,np.nan,np.nan,np.nan]])\n",
    "print(n_arr)\n",
    "\n",
    "print(n_arr[~np.isnan(n_arr).any(axis=1)])\n"
   ]
  },
  {
   "cell_type": "code",
   "execution_count": 47,
   "id": "2a5e16b0",
   "metadata": {},
   "outputs": [
    {
     "name": "stdout",
     "output_type": "stream",
     "text": [
      "[[[0 1 2]\n",
      "  [3 4 5]\n",
      "  [6 7 8]]]\n",
      "[[0 1 2]\n",
      " [3 4 5]\n",
      " [6 7 8]]\n",
      "The shape is:  (1, 3, 3) (3, 3)\n"
     ]
    }
   ],
   "source": [
    "# 4.1.3.\tRemove single-dimensional entries from the shape of an array\n",
    "\n",
    "import numpy as np\n",
    "\n",
    "in_arr=np.arange(9).reshape(1,3,3)\n",
    "print(in_arr)\n",
    "\n",
    "op_arr=np.squeeze(in_arr,axis=0)\n",
    "print(op_arr)\n",
    "\n",
    "print(\"The shape is: \",in_arr.shape,op_arr.shape)"
   ]
  },
  {
   "cell_type": "code",
   "execution_count": 50,
   "id": "c63b217b",
   "metadata": {},
   "outputs": [
    {
     "name": "stdout",
     "output_type": "stream",
     "text": [
      "[[10 20 30]\n",
      " [40 50 60]]\n",
      "True\n",
      "False\n"
     ]
    }
   ],
   "source": [
    "# How do you check whether specified values are present in the NumPy array?\n",
    "\n",
    "import numpy as np\n",
    "\n",
    "arr=np.array([[10,20,30],[40,50,60]])\n",
    "\n",
    "print(arr)\n",
    "\n",
    "print(20 in arr)\n",
    "print(59 in arr)"
   ]
  },
  {
   "cell_type": "code",
   "execution_count": 51,
   "id": "30e13a55",
   "metadata": {},
   "outputs": [
    {
     "name": "stdout",
     "output_type": "stream",
     "text": [
      "      Country   Age   Salary Purchased\n",
      "0       India  34.0  92000.0       Yes\n",
      "1   Sri lanka  22.0  25000.0       Yes\n",
      "2       China  31.0  74000.0       Yes\n",
      "3   Sri lanka  29.0      NaN        No\n",
      "4       China  55.0  98000.0       Yes\n",
      "5       India  24.0  30000.0        No\n",
      "6   Sri lanka  28.0  40000.0        No\n",
      "7       India   NaN  60000.0        No\n",
      "8       China  51.0  89000.0       Yes\n",
      "9       India  44.0  78000.0       Yes\n",
      "10  Sri lanka  21.0  20000.0        No\n",
      "11      China  25.0  30000.0       Yes\n",
      "12      India  33.0  45000.0       Yes\n",
      "13      India  42.0  65000.0       Yes\n",
      "14  Sri lanka  33.0  22000.0        No\n"
     ]
    }
   ],
   "source": [
    "# Handle the given dataset (Data.csv) with adequate preprocessing steps mentioned and visualize the dataset with appropriate graphs.\n",
    "# Handle Missing Data Values\n",
    "# Encode the categorical data\n",
    "# Scale your features\n",
    "\n",
    "\n",
    "import pandas as pd\n",
    "\n",
    "df=pd.read_csv('Data.csv')\n",
    "print(df)"
   ]
  },
  {
   "cell_type": "code",
   "execution_count": 60,
   "id": "a25df96c",
   "metadata": {},
   "outputs": [],
   "source": [
    "x=df.iloc[:,-1].values"
   ]
  },
  {
   "cell_type": "code",
   "execution_count": 61,
   "id": "79274a12",
   "metadata": {},
   "outputs": [
    {
     "name": "stdout",
     "output_type": "stream",
     "text": [
      "['Yes' 'Yes' 'Yes' 'No' 'Yes' 'No' 'No' 'No' 'Yes' 'Yes' 'No' 'Yes' 'Yes'\n",
      " 'Yes' 'No']\n"
     ]
    }
   ],
   "source": [
    "print(x)"
   ]
  },
  {
   "cell_type": "code",
   "execution_count": 62,
   "id": "a603061e",
   "metadata": {},
   "outputs": [],
   "source": [
    "y=df.iloc[:,3].values"
   ]
  },
  {
   "cell_type": "code",
   "execution_count": 63,
   "id": "4316934f",
   "metadata": {},
   "outputs": [
    {
     "name": "stdout",
     "output_type": "stream",
     "text": [
      "['Yes' 'Yes' 'Yes' 'No' 'Yes' 'No' 'No' 'No' 'Yes' 'Yes' 'No' 'Yes' 'Yes'\n",
      " 'Yes' 'No']\n"
     ]
    }
   ],
   "source": [
    "print(y)"
   ]
  },
  {
   "cell_type": "code",
   "execution_count": 68,
   "id": "0929f762",
   "metadata": {},
   "outputs": [
    {
     "name": "stdout",
     "output_type": "stream",
     "text": [
      "Requirement already satisfied: scikit-learn in c:\\users\\arya jagish\\anaconda3\\lib\\site-packages (1.3.0)\n",
      "Requirement already satisfied: numpy>=1.17.3 in c:\\users\\arya jagish\\anaconda3\\lib\\site-packages (from scikit-learn) (1.24.3)\n",
      "Requirement already satisfied: scipy>=1.5.0 in c:\\users\\arya jagish\\anaconda3\\lib\\site-packages (from scikit-learn) (1.10.1)\n",
      "Requirement already satisfied: joblib>=1.1.1 in c:\\users\\arya jagish\\anaconda3\\lib\\site-packages (from scikit-learn) (1.2.0)\n",
      "Requirement already satisfied: threadpoolctl>=2.0.0 in c:\\users\\arya jagish\\anaconda3\\lib\\site-packages (from scikit-learn) (2.2.0)\n",
      "Note: you may need to restart the kernel to use updated packages.\n"
     ]
    }
   ],
   "source": [
    "pip install scikit-learn"
   ]
  },
  {
   "cell_type": "code",
   "execution_count": 117,
   "id": "04dd7b5a",
   "metadata": {},
   "outputs": [],
   "source": [
    "from sklearn.impute import SimpleImputer\n",
    "from sklearn.pipeline import Pipeline\n",
    "from sklearn.preprocessing import StandardScaler, OneHotEncoder\n",
    "from sklearn.compose import ColumnTransformer\n",
    "from sklearn.model_selection import train_test_split"
   ]
  },
  {
   "cell_type": "code",
   "execution_count": 118,
   "id": "6f27e47b",
   "metadata": {},
   "outputs": [
    {
     "name": "stdout",
     "output_type": "stream",
     "text": [
      "      Country   Age   Salary Purchased\n",
      "0       India  34.0  92000.0       Yes\n",
      "1   Sri lanka  22.0  25000.0       Yes\n",
      "2       China  31.0  74000.0       Yes\n",
      "3   Sri lanka  29.0      NaN        No\n",
      "4       China  55.0  98000.0       Yes\n",
      "5       India  24.0  30000.0        No\n",
      "6   Sri lanka  28.0  40000.0        No\n",
      "7       India   NaN  60000.0        No\n",
      "8       China  51.0  89000.0       Yes\n",
      "9       India  44.0  78000.0       Yes\n",
      "10  Sri lanka  21.0  20000.0        No\n",
      "11      China  25.0  30000.0       Yes\n",
      "12      India  33.0  45000.0       Yes\n",
      "13      India  42.0  65000.0       Yes\n",
      "14  Sri lanka  33.0  22000.0        No\n"
     ]
    }
   ],
   "source": [
    "\n",
    "import pandas as pd\n",
    "\n",
    "df=pd.read_csv('Data.csv')\n",
    "print(df)"
   ]
  },
  {
   "cell_type": "code",
   "execution_count": 76,
   "id": "149155d0",
   "metadata": {},
   "outputs": [],
   "source": [
    "# imputer=SimpleImputer(missing_values='Nan',strategy=\"mean\")"
   ]
  },
  {
   "cell_type": "code",
   "execution_count": 119,
   "id": "170622da",
   "metadata": {},
   "outputs": [],
   "source": [
    "# print(df)"
   ]
  },
  {
   "cell_type": "code",
   "execution_count": 112,
   "id": "9dbb7fea",
   "metadata": {},
   "outputs": [],
   "source": [
    "# X=df.drop('Purchased',axis=1)\n",
    "# y=df['Purchased']"
   ]
  },
  {
   "cell_type": "code",
   "execution_count": 114,
   "id": "3d954ad5",
   "metadata": {},
   "outputs": [],
   "source": [
    "# print(X)\n",
    "# print(y)"
   ]
  },
  {
   "cell_type": "code",
   "execution_count": 130,
   "id": "ee5784b8",
   "metadata": {},
   "outputs": [],
   "source": [
    "# df=pd.get_dummies(df,columns=['Purchased_Yes_1'],drop_first=True)\n",
    "# print(df.columns)"
   ]
  },
  {
   "cell_type": "code",
   "execution_count": 115,
   "id": "6fae6a04",
   "metadata": {},
   "outputs": [],
   "source": [
    "# num_col=['Age','Salary']\n",
    "# categorical_col=['Country','Puchased']"
   ]
  },
  {
   "cell_type": "code",
   "execution_count": 85,
   "id": "b81a9bb7",
   "metadata": {},
   "outputs": [],
   "source": [
    "# num_transforms=Pipeline(steps=[\n",
    "#     ('imputer',SimpleImputer(strategy='mean')),\n",
    "#     ('scaler',StandardScaler)\n",
    "# ])\n",
    "\n",
    "# cate_transforms=Pipeline(steps=[\n",
    "#     ('imputer',SimpleImputer(strategy='most_frequent')),\n",
    "#     ('onehot',OneHotEncoder(handle_unknown='ignore'))\n",
    "# ])"
   ]
  },
  {
   "cell_type": "code",
   "execution_count": 94,
   "id": "a3a2c654",
   "metadata": {},
   "outputs": [],
   "source": [
    "# preprocessor=ColumnTransformer(\n",
    "#     transformers=[\n",
    "#         ('num',num_transforms,num_col),\n",
    "#         ('cat',cate_transforms,categorical_col)\n",
    "#     ])"
   ]
  },
  {
   "cell_type": "code",
   "execution_count": 89,
   "id": "19ade2cc",
   "metadata": {},
   "outputs": [],
   "source": [
    "# from sklearn.ensemble import RandomForestClassifier\n",
    "# model=RandomForestClassifier()"
   ]
  },
  {
   "cell_type": "code",
   "execution_count": 95,
   "id": "7c8b3e28",
   "metadata": {},
   "outputs": [],
   "source": [
    "# clf=Pipeline(steps=[('preprocessor',preprocessor),('classifier',model)])\n"
   ]
  },
  {
   "cell_type": "code",
   "execution_count": 100,
   "id": "17ce17e0",
   "metadata": {},
   "outputs": [],
   "source": [
    "# X_train,X_test,y_train,y_test=train_test_split(X,y,test_size=0.2,random_state=42)"
   ]
  },
  {
   "cell_type": "code",
   "execution_count": 102,
   "id": "d98db07a",
   "metadata": {},
   "outputs": [],
   "source": [
    "# df=pd.get_dummies(df,columns=['Purchased'],drop_first=True)"
   ]
  },
  {
   "cell_type": "code",
   "execution_count": 110,
   "id": "0963a606",
   "metadata": {},
   "outputs": [],
   "source": [
    "# print(df)"
   ]
  },
  {
   "cell_type": "code",
   "execution_count": null,
   "id": "9accc219",
   "metadata": {},
   "outputs": [],
   "source": []
  }
 ],
 "metadata": {
  "kernelspec": {
   "display_name": "Python 3 (ipykernel)",
   "language": "python",
   "name": "python3"
  },
  "language_info": {
   "codemirror_mode": {
    "name": "ipython",
    "version": 3
   },
   "file_extension": ".py",
   "mimetype": "text/x-python",
   "name": "python",
   "nbconvert_exporter": "python",
   "pygments_lexer": "ipython3",
   "version": "3.11.4"
  }
 },
 "nbformat": 4,
 "nbformat_minor": 5
}
