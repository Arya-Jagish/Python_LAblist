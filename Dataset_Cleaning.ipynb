{
 "cells": [
  {
   "cell_type": "code",
   "execution_count": 2,
   "id": "dde60593",
   "metadata": {},
   "outputs": [
    {
     "name": "stdout",
     "output_type": "stream",
     "text": [
      "      Country   Age   Salary Purchased\n",
      "0       India  34.0  92000.0       Yes\n",
      "1   Sri lanka  22.0  25000.0       Yes\n",
      "2       China  31.0  74000.0       Yes\n",
      "3   Sri lanka  29.0      NaN        No\n",
      "4       China  55.0  98000.0       Yes\n",
      "5       India  24.0  30000.0        No\n",
      "6   Sri lanka  28.0  40000.0        No\n",
      "7       India   NaN  60000.0        No\n",
      "8       China  51.0  89000.0       Yes\n",
      "9       India  44.0  78000.0       Yes\n",
      "10  Sri lanka  21.0  20000.0        No\n",
      "11      China  25.0  30000.0       Yes\n",
      "12      India  33.0  45000.0       Yes\n",
      "13      India  42.0  65000.0       Yes\n",
      "14  Sri lanka  33.0  22000.0        No\n"
     ]
    }
   ],
   "source": [
    "import pandas as pd\n",
    "\n",
    "df=pd.read_csv('Data.csv')\n",
    "print(df)"
   ]
  },
  {
   "cell_type": "code",
   "execution_count": 3,
   "id": "71472e6e",
   "metadata": {},
   "outputs": [],
   "source": [
    "x=df['Age'].mean()\n",
    "df['Age'].fillna(x,inplace=True)"
   ]
  },
  {
   "cell_type": "code",
   "execution_count": 4,
   "id": "5730e4d0",
   "metadata": {},
   "outputs": [
    {
     "name": "stdout",
     "output_type": "stream",
     "text": [
      "      Country        Age   Salary Purchased\n",
      "0       India  34.000000  92000.0       Yes\n",
      "1   Sri lanka  22.000000  25000.0       Yes\n",
      "2       China  31.000000  74000.0       Yes\n",
      "3   Sri lanka  29.000000      NaN        No\n",
      "4       China  55.000000  98000.0       Yes\n",
      "5       India  24.000000  30000.0        No\n",
      "6   Sri lanka  28.000000  40000.0        No\n",
      "7       India  33.714286  60000.0        No\n",
      "8       China  51.000000  89000.0       Yes\n",
      "9       India  44.000000  78000.0       Yes\n",
      "10  Sri lanka  21.000000  20000.0        No\n",
      "11      China  25.000000  30000.0       Yes\n",
      "12      India  33.000000  45000.0       Yes\n",
      "13      India  42.000000  65000.0       Yes\n",
      "14  Sri lanka  33.000000  22000.0        No\n"
     ]
    }
   ],
   "source": [
    "print(df)"
   ]
  },
  {
   "cell_type": "code",
   "execution_count": 7,
   "id": "e6e53a2d",
   "metadata": {},
   "outputs": [],
   "source": [
    "x=df['Salary'].median()\n",
    "df['Salary'].fillna(x,inplace=True)"
   ]
  },
  {
   "cell_type": "code",
   "execution_count": 8,
   "id": "9c8e1eda",
   "metadata": {},
   "outputs": [
    {
     "name": "stdout",
     "output_type": "stream",
     "text": [
      "      Country        Age        Salary Purchased\n",
      "0       India  34.000000  92000.000000       Yes\n",
      "1   Sri lanka  22.000000  25000.000000       Yes\n",
      "2       China  31.000000  74000.000000       Yes\n",
      "3   Sri lanka  29.000000  54857.142857        No\n",
      "4       China  55.000000  98000.000000       Yes\n",
      "5       India  24.000000  30000.000000        No\n",
      "6   Sri lanka  28.000000  40000.000000        No\n",
      "7       India  33.714286  60000.000000        No\n",
      "8       China  51.000000  89000.000000       Yes\n",
      "9       India  44.000000  78000.000000       Yes\n",
      "10  Sri lanka  21.000000  20000.000000        No\n",
      "11      China  25.000000  30000.000000       Yes\n",
      "12      India  33.000000  45000.000000       Yes\n",
      "13      India  42.000000  65000.000000       Yes\n",
      "14  Sri lanka  33.000000  22000.000000        No\n"
     ]
    }
   ],
   "source": [
    "print(df)"
   ]
  },
  {
   "cell_type": "code",
   "execution_count": 15,
   "id": "5d295a22",
   "metadata": {},
   "outputs": [],
   "source": [
    "df=pd.get_dummies(df,columns=['Purchased'],drop_first=True)"
   ]
  },
  {
   "cell_type": "code",
   "execution_count": 16,
   "id": "d10f062b",
   "metadata": {},
   "outputs": [
    {
     "name": "stdout",
     "output_type": "stream",
     "text": [
      "      Country        Age        Salary  Purchased_Yes\n",
      "0       India  34.000000  92000.000000              1\n",
      "1   Sri lanka  22.000000  25000.000000              1\n",
      "2       China  31.000000  74000.000000              1\n",
      "3   Sri lanka  29.000000  54857.142857              0\n",
      "4       China  55.000000  98000.000000              1\n",
      "5       India  24.000000  30000.000000              0\n",
      "6   Sri lanka  28.000000  40000.000000              0\n",
      "7       India  33.714286  60000.000000              0\n",
      "8       China  51.000000  89000.000000              1\n",
      "9       India  44.000000  78000.000000              1\n",
      "10  Sri lanka  21.000000  20000.000000              0\n",
      "11      China  25.000000  30000.000000              1\n",
      "12      India  33.000000  45000.000000              1\n",
      "13      India  42.000000  65000.000000              1\n",
      "14  Sri lanka  33.000000  22000.000000              0\n"
     ]
    }
   ],
   "source": [
    "print(df)"
   ]
  },
  {
   "cell_type": "code",
   "execution_count": 18,
   "id": "1d2b09dc",
   "metadata": {},
   "outputs": [
    {
     "name": "stdout",
     "output_type": "stream",
     "text": [
      "      Country        Age        Salary  Purchased_Yes\n",
      "0       India  34.000000  92000.000000              1\n",
      "1   Sri lanka  22.000000  25000.000000              1\n",
      "2       China  31.000000  74000.000000              1\n",
      "3   Sri lanka  29.000000  54857.142857              0\n",
      "4       China  55.000000  98000.000000              1\n",
      "5       India  24.000000  30000.000000              0\n",
      "6   Sri lanka  28.000000  40000.000000              0\n",
      "7       India  33.714286  60000.000000              0\n",
      "8       China  51.000000  89000.000000              1\n",
      "9       India  44.000000  78000.000000              1\n",
      "10  Sri lanka  21.000000  20000.000000              0\n",
      "11      China  25.000000  30000.000000              1\n",
      "12      India  33.000000  45000.000000              1\n",
      "13      India  42.000000  65000.000000              1\n",
      "14  Sri lanka  33.000000  22000.000000              0\n"
     ]
    }
   ],
   "source": [
    "df=df.dropna()\n",
    "print(df)"
   ]
  },
  {
   "cell_type": "code",
   "execution_count": null,
   "id": "c5bebe65",
   "metadata": {},
   "outputs": [],
   "source": [
    "df['Date']=pd.to_datetime(df['Date'])\n",
    "\n",
    "df=df.drop_duplicates(inplace=True)\n",
    "\n",
    "df.loc[7,'Duration']=67\n",
    "\n",
    "df.dropna\n",
    "\n",
    "x=df['Calories'].mean()\n",
    "\n",
    "df['Calories'].fillna(x,inplace=True)"
   ]
  }
 ],
 "metadata": {
  "kernelspec": {
   "display_name": "Python 3 (ipykernel)",
   "language": "python",
   "name": "python3"
  },
  "language_info": {
   "codemirror_mode": {
    "name": "ipython",
    "version": 3
   },
   "file_extension": ".py",
   "mimetype": "text/x-python",
   "name": "python",
   "nbconvert_exporter": "python",
   "pygments_lexer": "ipython3",
   "version": "3.11.4"
  }
 },
 "nbformat": 4,
 "nbformat_minor": 5
}
