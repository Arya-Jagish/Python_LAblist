{
 "cells": [
  {
   "cell_type": "code",
   "execution_count": 1,
   "id": "d1e25bda",
   "metadata": {},
   "outputs": [],
   "source": [
    "import pandas as pd\n",
    "\n",
    "from sklearn.impute import SimpleImputer\n",
    "from sklearn.preprocessing import StandardScaler,OneHotEncoder\n",
    "from sklearn.pipeline import Pipeline\n",
    "from sklearn.compose import ColumnTransformer\n",
    "from sklearn.model_selection import train_test_split"
   ]
  },
  {
   "cell_type": "code",
   "execution_count": 2,
   "id": "0a9058ee",
   "metadata": {},
   "outputs": [],
   "source": [
    "df=pd.read_csv('Data.csv')"
   ]
  },
  {
   "cell_type": "code",
   "execution_count": 3,
   "id": "b5f27240",
   "metadata": {},
   "outputs": [
    {
     "name": "stdout",
     "output_type": "stream",
     "text": [
      "      Country   Age   Salary Purchased\n",
      "0       India  34.0  92000.0       Yes\n",
      "1   Sri lanka  22.0  25000.0       Yes\n",
      "2       China  31.0  74000.0       Yes\n",
      "3   Sri lanka  29.0      NaN        No\n",
      "4       China  55.0  98000.0       Yes\n",
      "5       India  24.0  30000.0        No\n",
      "6   Sri lanka  28.0  40000.0        No\n",
      "7       India   NaN  60000.0        No\n",
      "8       China  51.0  89000.0       Yes\n",
      "9       India  44.0  78000.0       Yes\n",
      "10  Sri lanka  21.0  20000.0        No\n",
      "11      China  25.0  30000.0       Yes\n",
      "12      India  33.0  45000.0       Yes\n",
      "13      India  42.0  65000.0       Yes\n",
      "14  Sri lanka  33.0  22000.0        No\n"
     ]
    }
   ],
   "source": [
    "print(df)"
   ]
  },
  {
   "cell_type": "code",
   "execution_count": 4,
   "id": "cf2e9e31",
   "metadata": {},
   "outputs": [],
   "source": [
    "x=df['Salary'].mean()\n",
    "df['Salary'].fillna(x,inplace=True)"
   ]
  },
  {
   "cell_type": "code",
   "execution_count": 5,
   "id": "1a9f0c65",
   "metadata": {},
   "outputs": [
    {
     "name": "stdout",
     "output_type": "stream",
     "text": [
      "      Country   Age        Salary Purchased\n",
      "0       India  34.0  92000.000000       Yes\n",
      "1   Sri lanka  22.0  25000.000000       Yes\n",
      "2       China  31.0  74000.000000       Yes\n",
      "3   Sri lanka  29.0  54857.142857        No\n",
      "4       China  55.0  98000.000000       Yes\n",
      "5       India  24.0  30000.000000        No\n",
      "6   Sri lanka  28.0  40000.000000        No\n",
      "7       India   NaN  60000.000000        No\n",
      "8       China  51.0  89000.000000       Yes\n",
      "9       India  44.0  78000.000000       Yes\n",
      "10  Sri lanka  21.0  20000.000000        No\n",
      "11      China  25.0  30000.000000       Yes\n",
      "12      India  33.0  45000.000000       Yes\n",
      "13      India  42.0  65000.000000       Yes\n",
      "14  Sri lanka  33.0  22000.000000        No\n"
     ]
    }
   ],
   "source": [
    "print(df)"
   ]
  },
  {
   "cell_type": "code",
   "execution_count": 6,
   "id": "938bbe20",
   "metadata": {},
   "outputs": [],
   "source": [
    "x=df['Age'].mean()\n",
    "df['Age'].fillna(x,inplace=True)"
   ]
  },
  {
   "cell_type": "code",
   "execution_count": 7,
   "id": "6f1d6504",
   "metadata": {},
   "outputs": [
    {
     "name": "stdout",
     "output_type": "stream",
     "text": [
      "      Country        Age        Salary Purchased\n",
      "0       India  34.000000  92000.000000       Yes\n",
      "1   Sri lanka  22.000000  25000.000000       Yes\n",
      "2       China  31.000000  74000.000000       Yes\n",
      "3   Sri lanka  29.000000  54857.142857        No\n",
      "4       China  55.000000  98000.000000       Yes\n",
      "5       India  24.000000  30000.000000        No\n",
      "6   Sri lanka  28.000000  40000.000000        No\n",
      "7       India  33.714286  60000.000000        No\n",
      "8       China  51.000000  89000.000000       Yes\n",
      "9       India  44.000000  78000.000000       Yes\n",
      "10  Sri lanka  21.000000  20000.000000        No\n",
      "11      China  25.000000  30000.000000       Yes\n",
      "12      India  33.000000  45000.000000       Yes\n",
      "13      India  42.000000  65000.000000       Yes\n",
      "14  Sri lanka  33.000000  22000.000000        No\n"
     ]
    }
   ],
   "source": [
    "print(df)"
   ]
  },
  {
   "cell_type": "code",
   "execution_count": 8,
   "id": "622c42b5",
   "metadata": {},
   "outputs": [],
   "source": [
    "df=pd.get_dummies(df,columns=['Country','Purchased'],drop_first=True)"
   ]
  },
  {
   "cell_type": "code",
   "execution_count": 9,
   "id": "bf12d90e",
   "metadata": {},
   "outputs": [
    {
     "name": "stdout",
     "output_type": "stream",
     "text": [
      "          Age        Salary  Country_India  Country_Sri lanka  Purchased_Yes\n",
      "0   34.000000  92000.000000              1                  0              1\n",
      "1   22.000000  25000.000000              0                  1              1\n",
      "2   31.000000  74000.000000              0                  0              1\n",
      "3   29.000000  54857.142857              0                  1              0\n",
      "4   55.000000  98000.000000              0                  0              1\n",
      "5   24.000000  30000.000000              1                  0              0\n",
      "6   28.000000  40000.000000              0                  1              0\n",
      "7   33.714286  60000.000000              1                  0              0\n",
      "8   51.000000  89000.000000              0                  0              1\n",
      "9   44.000000  78000.000000              1                  0              1\n",
      "10  21.000000  20000.000000              0                  1              0\n",
      "11  25.000000  30000.000000              0                  0              1\n",
      "12  33.000000  45000.000000              1                  0              1\n",
      "13  42.000000  65000.000000              1                  0              1\n",
      "14  33.000000  22000.000000              0                  1              0\n"
     ]
    }
   ],
   "source": [
    "print(df)"
   ]
  },
  {
   "cell_type": "code",
   "execution_count": 16,
   "id": "ccb88c6e",
   "metadata": {},
   "outputs": [],
   "source": [
    "df=pd.get_dummies(df,columns=['Purchased_Yes'],drop_first=True)"
   ]
  },
  {
   "cell_type": "code",
   "execution_count": 17,
   "id": "7454f26c",
   "metadata": {},
   "outputs": [
    {
     "name": "stdout",
     "output_type": "stream",
     "text": [
      "          Age        Salary  Country_India  Country_Sri lanka  Purchased_Yes_1\n",
      "0   34.000000  92000.000000              1                  0                1\n",
      "1   22.000000  25000.000000              0                  1                1\n",
      "2   31.000000  74000.000000              0                  0                1\n",
      "3   29.000000  54857.142857              0                  1                0\n",
      "4   55.000000  98000.000000              0                  0                1\n",
      "5   24.000000  30000.000000              1                  0                0\n",
      "6   28.000000  40000.000000              0                  1                0\n",
      "7   33.714286  60000.000000              1                  0                0\n",
      "8   51.000000  89000.000000              0                  0                1\n",
      "9   44.000000  78000.000000              1                  0                1\n",
      "10  21.000000  20000.000000              0                  1                0\n",
      "11  25.000000  30000.000000              0                  0                1\n",
      "12  33.000000  45000.000000              1                  0                1\n",
      "13  42.000000  65000.000000              1                  0                1\n",
      "14  33.000000  22000.000000              0                  1                0\n"
     ]
    }
   ],
   "source": [
    "print(df)"
   ]
  },
  {
   "cell_type": "code",
   "execution_count": 22,
   "id": "87e6a894",
   "metadata": {},
   "outputs": [
    {
     "name": "stdout",
     "output_type": "stream",
     "text": [
      "[[ 0.02897151  1.42592213]\n",
      " [-1.1878321  -1.14622202]\n",
      " [-0.27522939  0.73489833]\n",
      " [-0.47802999  0.        ]\n",
      " [ 2.15837785  1.6562634 ]\n",
      " [-0.9850315  -0.95427097]\n",
      " [-0.57943029 -0.57036885]\n",
      " [ 0.          0.19743537]\n",
      " [ 1.75277664  1.3107515 ]\n",
      " [ 1.04297453  0.88845917]\n",
      " [-1.28923241 -1.33817308]\n",
      " [-0.8836312  -0.95427097]\n",
      " [-0.07242879 -0.3784178 ]\n",
      " [ 0.84017393  0.38938643]\n",
      " [-0.07242879 -1.26139266]]\n"
     ]
    }
   ],
   "source": [
    "X=df[['Age','Salary']]\n",
    "scaledX=StandardScaler().fit_transform(X)\n",
    "print(scaledX)"
   ]
  },
  {
   "cell_type": "code",
   "execution_count": 28,
   "id": "5289269f",
   "metadata": {},
   "outputs": [
    {
     "name": "stdout",
     "output_type": "stream",
     "text": [
      "    Duration          Date  Pulse  Maxpulse  Calories\n",
      "0         60  '2020/12/01'    110       130     409.1\n",
      "1         60  '2020/12/02'    117       145     479.0\n",
      "2         60  '2020/12/03'    103       135     340.0\n",
      "3         45  '2020/12/04'    109       175     282.4\n",
      "4         45  '2020/12/05'    117       148     406.0\n",
      "5         60  '2020/12/06'    102       127     300.0\n",
      "6         60  '2020/12/07'    110       136     374.0\n",
      "7        450  '2020/12/08'    104       134     253.3\n",
      "8         30  '2020/12/09'    109       133     195.1\n",
      "9         60  '2020/12/10'     98       124     269.0\n",
      "10        60  '2020/12/11'    103       147     329.3\n",
      "11        60  '2020/12/12'    100       120     250.7\n",
      "12        60  '2020/12/12'    100       120     250.7\n",
      "13        60  '2020/12/13'    106       128     345.3\n",
      "14        60  '2020/12/14'    104       132     379.3\n",
      "15        60  '2020/12/15'     98       123     275.0\n",
      "16        60  '2020/12/16'     98       120     215.2\n",
      "17        60  '2020/12/17'    100       120     300.0\n",
      "18        45  '2020/12/18'     90       112       NaN\n",
      "19        60  '2020/12/19'    103       123     323.0\n",
      "20        45  '2020/12/20'     97       125     243.0\n",
      "21        60  '2020/12/21'    108       131     364.2\n",
      "22        45           NaN    100       119     282.0\n",
      "23        60  '2020/12/23'    130       101     300.0\n",
      "24        45  '2020/12/24'    105       132     246.0\n",
      "25        60  '2020/12/25'    102       126     334.5\n",
      "26        60      20201226    100       120     250.0\n",
      "27        60  '2020/12/27'     92       118     241.0\n",
      "28        60  '2020/12/28'    103       132       NaN\n",
      "29        60  '2020/12/29'    100       132     280.0\n",
      "30        60  '2020/12/30'    102       129     380.3\n",
      "31        60  '2020/12/31'     92       115     243.0\n"
     ]
    }
   ],
   "source": [
    "df=pd.read_csv('dirtydata.csv')\n",
    "print(df)"
   ]
  },
  {
   "cell_type": "code",
   "execution_count": 34,
   "id": "53986189",
   "metadata": {},
   "outputs": [
    {
     "name": "stdout",
     "output_type": "stream",
     "text": [
      "    Duration       Date  Pulse  Maxpulse  Calories\n",
      "0         60 2020-12-01    110       130     409.1\n",
      "1         60 2020-12-02    117       145     479.0\n",
      "2         60 2020-12-03    103       135     340.0\n",
      "3         45 2020-12-04    109       175     282.4\n",
      "4         45 2020-12-05    117       148     406.0\n",
      "5         60 2020-12-06    102       127     300.0\n",
      "6         60 2020-12-07    110       136     374.0\n",
      "7        450 2020-12-08    104       134     253.3\n",
      "8         30 2020-12-09    109       133     195.1\n",
      "9         60 2020-12-10     98       124     269.0\n",
      "10        60 2020-12-11    103       147     329.3\n",
      "11        60 2020-12-12    100       120     250.7\n",
      "12        60 2020-12-12    100       120     250.7\n",
      "13        60 2020-12-13    106       128     345.3\n",
      "14        60 2020-12-14    104       132     379.3\n",
      "15        60 2020-12-15     98       123     275.0\n",
      "16        60 2020-12-16     98       120     215.2\n",
      "17        60 2020-12-17    100       120     300.0\n",
      "18        45 2020-12-18     90       112       NaN\n",
      "19        60 2020-12-19    103       123     323.0\n",
      "20        45 2020-12-20     97       125     243.0\n",
      "21        60 2020-12-21    108       131     364.2\n",
      "22        45        NaT    100       119     282.0\n",
      "23        60 2020-12-23    130       101     300.0\n",
      "24        45 2020-12-24    105       132     246.0\n",
      "25        60 2020-12-25    102       126     334.5\n",
      "26        60 2020-12-26    100       120     250.0\n",
      "27        60 2020-12-27     92       118     241.0\n",
      "28        60 2020-12-28    103       132       NaN\n",
      "29        60 2020-12-29    100       132     280.0\n",
      "30        60 2020-12-30    102       129     380.3\n",
      "31        60 2020-12-31     92       115     243.0\n"
     ]
    }
   ],
   "source": [
    "df['Date']=pd.to_datetime(df['Date'])\n",
    "print(df)"
   ]
  },
  {
   "cell_type": "code",
   "execution_count": 35,
   "id": "eb36b854",
   "metadata": {},
   "outputs": [
    {
     "name": "stdout",
     "output_type": "stream",
     "text": [
      "    Duration       Date  Pulse  Maxpulse  Calories\n",
      "0         60 2020-12-01    110       130     409.1\n",
      "1         60 2020-12-02    117       145     479.0\n",
      "2         60 2020-12-03    103       135     340.0\n",
      "3         45 2020-12-04    109       175     282.4\n",
      "4         45 2020-12-05    117       148     406.0\n",
      "5         60 2020-12-06    102       127     300.0\n",
      "6         60 2020-12-07    110       136     374.0\n",
      "7        450 2020-12-08    104       134     253.3\n",
      "8         30 2020-12-09    109       133     195.1\n",
      "9         60 2020-12-10     98       124     269.0\n",
      "10        60 2020-12-11    103       147     329.3\n",
      "11        60 2020-12-12    100       120     250.7\n",
      "12        60 2020-12-12    100       120     250.7\n",
      "13        60 2020-12-13    106       128     345.3\n",
      "14        60 2020-12-14    104       132     379.3\n",
      "15        60 2020-12-15     98       123     275.0\n",
      "16        60 2020-12-16     98       120     215.2\n",
      "17        60 2020-12-17    100       120     300.0\n",
      "19        60 2020-12-19    103       123     323.0\n",
      "20        45 2020-12-20     97       125     243.0\n",
      "21        60 2020-12-21    108       131     364.2\n",
      "23        60 2020-12-23    130       101     300.0\n",
      "24        45 2020-12-24    105       132     246.0\n",
      "25        60 2020-12-25    102       126     334.5\n",
      "26        60 2020-12-26    100       120     250.0\n",
      "27        60 2020-12-27     92       118     241.0\n",
      "29        60 2020-12-29    100       132     280.0\n",
      "30        60 2020-12-30    102       129     380.3\n",
      "31        60 2020-12-31     92       115     243.0\n"
     ]
    }
   ],
   "source": [
    "df=df.dropna()\n",
    "print(df)"
   ]
  },
  {
   "cell_type": "code",
   "execution_count": 36,
   "id": "fc7ed3cb",
   "metadata": {},
   "outputs": [],
   "source": [
    "x=df['Calories'].mean()\n",
    "df['Calories'].fillna(x,inplace=True)"
   ]
  },
  {
   "cell_type": "code",
   "execution_count": 37,
   "id": "96a5bd6a",
   "metadata": {},
   "outputs": [
    {
     "name": "stdout",
     "output_type": "stream",
     "text": [
      "    Duration       Date  Pulse  Maxpulse  Calories\n",
      "0         60 2020-12-01    110       130     409.1\n",
      "1         60 2020-12-02    117       145     479.0\n",
      "2         60 2020-12-03    103       135     340.0\n",
      "3         45 2020-12-04    109       175     282.4\n",
      "4         45 2020-12-05    117       148     406.0\n",
      "5         60 2020-12-06    102       127     300.0\n",
      "6         60 2020-12-07    110       136     374.0\n",
      "7        450 2020-12-08    104       134     253.3\n",
      "8         30 2020-12-09    109       133     195.1\n",
      "9         60 2020-12-10     98       124     269.0\n",
      "10        60 2020-12-11    103       147     329.3\n",
      "11        60 2020-12-12    100       120     250.7\n",
      "12        60 2020-12-12    100       120     250.7\n",
      "13        60 2020-12-13    106       128     345.3\n",
      "14        60 2020-12-14    104       132     379.3\n",
      "15        60 2020-12-15     98       123     275.0\n",
      "16        60 2020-12-16     98       120     215.2\n",
      "17        60 2020-12-17    100       120     300.0\n",
      "19        60 2020-12-19    103       123     323.0\n",
      "20        45 2020-12-20     97       125     243.0\n",
      "21        60 2020-12-21    108       131     364.2\n",
      "23        60 2020-12-23    130       101     300.0\n",
      "24        45 2020-12-24    105       132     246.0\n",
      "25        60 2020-12-25    102       126     334.5\n",
      "26        60 2020-12-26    100       120     250.0\n",
      "27        60 2020-12-27     92       118     241.0\n",
      "29        60 2020-12-29    100       132     280.0\n",
      "30        60 2020-12-30    102       129     380.3\n",
      "31        60 2020-12-31     92       115     243.0\n"
     ]
    }
   ],
   "source": [
    "print(df)"
   ]
  },
  {
   "cell_type": "code",
   "execution_count": 41,
   "id": "bb011647",
   "metadata": {},
   "outputs": [],
   "source": [
    "df.drop_duplicates(inplace = True)"
   ]
  },
  {
   "cell_type": "code",
   "execution_count": 42,
   "id": "79116484",
   "metadata": {},
   "outputs": [
    {
     "name": "stdout",
     "output_type": "stream",
     "text": [
      "    Duration       Date  Pulse  Maxpulse  Calories\n",
      "0         60 2020-12-01    110       130     409.1\n",
      "1         60 2020-12-02    117       145     479.0\n",
      "2         60 2020-12-03    103       135     340.0\n",
      "3         45 2020-12-04    109       175     282.4\n",
      "4         45 2020-12-05    117       148     406.0\n",
      "5         60 2020-12-06    102       127     300.0\n",
      "6         60 2020-12-07    110       136     374.0\n",
      "7        450 2020-12-08    104       134     253.3\n",
      "8         30 2020-12-09    109       133     195.1\n",
      "9         60 2020-12-10     98       124     269.0\n",
      "10        60 2020-12-11    103       147     329.3\n",
      "11        60 2020-12-12    100       120     250.7\n",
      "13        60 2020-12-13    106       128     345.3\n",
      "14        60 2020-12-14    104       132     379.3\n",
      "15        60 2020-12-15     98       123     275.0\n",
      "16        60 2020-12-16     98       120     215.2\n",
      "17        60 2020-12-17    100       120     300.0\n",
      "19        60 2020-12-19    103       123     323.0\n",
      "20        45 2020-12-20     97       125     243.0\n",
      "21        60 2020-12-21    108       131     364.2\n",
      "23        60 2020-12-23    130       101     300.0\n",
      "24        45 2020-12-24    105       132     246.0\n",
      "25        60 2020-12-25    102       126     334.5\n",
      "26        60 2020-12-26    100       120     250.0\n",
      "27        60 2020-12-27     92       118     241.0\n",
      "29        60 2020-12-29    100       132     280.0\n",
      "30        60 2020-12-30    102       129     380.3\n",
      "31        60 2020-12-31     92       115     243.0\n"
     ]
    }
   ],
   "source": [
    "print(df)"
   ]
  },
  {
   "cell_type": "code",
   "execution_count": 43,
   "id": "26ff3306",
   "metadata": {},
   "outputs": [],
   "source": [
    "df.loc[7,'Duration']=45"
   ]
  },
  {
   "cell_type": "code",
   "execution_count": 44,
   "id": "98e7430e",
   "metadata": {},
   "outputs": [
    {
     "name": "stdout",
     "output_type": "stream",
     "text": [
      "    Duration       Date  Pulse  Maxpulse  Calories\n",
      "0         60 2020-12-01    110       130     409.1\n",
      "1         60 2020-12-02    117       145     479.0\n",
      "2         60 2020-12-03    103       135     340.0\n",
      "3         45 2020-12-04    109       175     282.4\n",
      "4         45 2020-12-05    117       148     406.0\n",
      "5         60 2020-12-06    102       127     300.0\n",
      "6         60 2020-12-07    110       136     374.0\n",
      "7         45 2020-12-08    104       134     253.3\n",
      "8         30 2020-12-09    109       133     195.1\n",
      "9         60 2020-12-10     98       124     269.0\n",
      "10        60 2020-12-11    103       147     329.3\n",
      "11        60 2020-12-12    100       120     250.7\n",
      "13        60 2020-12-13    106       128     345.3\n",
      "14        60 2020-12-14    104       132     379.3\n",
      "15        60 2020-12-15     98       123     275.0\n",
      "16        60 2020-12-16     98       120     215.2\n",
      "17        60 2020-12-17    100       120     300.0\n",
      "19        60 2020-12-19    103       123     323.0\n",
      "20        45 2020-12-20     97       125     243.0\n",
      "21        60 2020-12-21    108       131     364.2\n",
      "23        60 2020-12-23    130       101     300.0\n",
      "24        45 2020-12-24    105       132     246.0\n",
      "25        60 2020-12-25    102       126     334.5\n",
      "26        60 2020-12-26    100       120     250.0\n",
      "27        60 2020-12-27     92       118     241.0\n",
      "29        60 2020-12-29    100       132     280.0\n",
      "30        60 2020-12-30    102       129     380.3\n",
      "31        60 2020-12-31     92       115     243.0\n"
     ]
    }
   ],
   "source": [
    "print(df)"
   ]
  },
  {
   "cell_type": "code",
   "execution_count": 46,
   "id": "62d122b7",
   "metadata": {},
   "outputs": [
    {
     "name": "stdout",
     "output_type": "stream",
     "text": [
      "    age  speed\n",
      "0     5     99\n",
      "1     7     86\n",
      "2     8     87\n",
      "3     7     88\n",
      "4     2    111\n",
      "5    17     86\n",
      "6     2    103\n",
      "7     9     87\n",
      "8     4     94\n",
      "9    11     78\n",
      "10   12     77\n",
      "11    9     85\n",
      "12    6     86\n"
     ]
    }
   ],
   "source": [
    "import pandas as pd\n",
    "\n",
    "# car_age = [5, 7, 8, 7, 2, 17, 2, 9, 4, 11, 12, 9, 6]\n",
    "# car_speed = [99,86,87,88,111,86,103,87,94,78,77,85,86]\n",
    "\n",
    "data=pd.DataFrame({'age':[5, 7, 8, 7, 2, 17, 2, 9, 4, 11, 12, 9, 6],\n",
    "                   'speed':[99,86,87,88,111,86,103,87,94,78,77,85,86]\n",
    "                  })\n",
    "print(data)"
   ]
  },
  {
   "cell_type": "code",
   "execution_count": 49,
   "id": "c857d3f8",
   "metadata": {},
   "outputs": [
    {
     "data": {
      "image/png": "[encoded data removed]",
      "text/plain": [
       "<Figure size 640x480 with 1 Axes>"
      ]
     },
     "metadata": {},
     "output_type": "display_data"
    }
   ],
   "source": [
    "import matplotlib.pyplot as plt\n",
    "from scipy import stats\n",
    "\n",
    "age = [5, 7, 8, 7, 2, 17, 2, 9, 4, 11, 12, 9, 6]\n",
    "speed = [99,86,87,88,111,86,103,87,94,78,77,85,86]\n",
    "\n",
    "slope,intercept,r,p,std_err=stats.linregress(age,speed)\n",
    "\n",
    "def fun(age):\n",
    "    return slope*age+intercept\n",
    "\n",
    "model=list(map(fun,age))\n",
    "\n",
    "plt.scatter(age,speed)\n",
    "plt.plot(age,model)\n",
    "plt.show()"
   ]
  },
  {
   "cell_type": "code",
   "execution_count": 50,
   "id": "35413a0d",
   "metadata": {},
   "outputs": [
    {
     "name": "stdout",
     "output_type": "stream",
     "text": [
      "-0.758591524376155\n"
     ]
    }
   ],
   "source": [
    "print(r)"
   ]
  },
  {
   "cell_type": "code",
   "execution_count": 51,
   "id": "f9eaf319",
   "metadata": {},
   "outputs": [
    {
     "name": "stdout",
     "output_type": "stream",
     "text": [
      "85.59308314937454\n"
     ]
    }
   ],
   "source": [
    "speed=fun(10)\n",
    "print(speed)"
   ]
  },
  {
   "cell_type": "code",
   "execution_count": 52,
   "id": "fb3ab53e",
   "metadata": {},
   "outputs": [
    {
     "name": "stdout",
     "output_type": "stream",
     "text": [
      "0.0026468739224561064\n"
     ]
    }
   ],
   "source": [
    "print(p)"
   ]
  },
  {
   "cell_type": "code",
   "execution_count": 98,
   "id": "74ab75d3",
   "metadata": {},
   "outputs": [
    {
     "name": "stdout",
     "output_type": "stream",
     "text": [
      "           Car       Model  Volume  Weight  CO2\n",
      "0       Toyoty        Aygo    1000     790   99\n",
      "1   Mitsubishi  Space Star    1200    1160   95\n",
      "2        Skoda      Citigo    1000     929   95\n",
      "3         Fiat         500     900     865   90\n",
      "4         Mini      Cooper    1500    1140  105\n",
      "5           VW         Up!    1000     929  105\n",
      "6        Skoda       Fabia    1400    1109   90\n",
      "7     Mercedes     A-Class    1500    1365   92\n",
      "8         Ford      Fiesta    1500    1112   98\n",
      "9         Audi          A1    1600    1150   99\n",
      "10     Hyundai         I20    1100     980   99\n",
      "11      Suzuki       Swift    1300     990  101\n",
      "12        Ford      Fiesta    1000    1112   99\n",
      "13       Honda       Civic    1600    1252   94\n",
      "14      Hundai         I30    1600    1326   97\n",
      "15        Opel       Astra    1600    1330   97\n",
      "16         BMW           1    1600    1365   99\n",
      "17       Mazda           3    2200    1280  104\n",
      "18       Skoda       Rapid    1600    1119  104\n",
      "19        Ford       Focus    2000    1328  105\n",
      "20        Ford      Mondeo    1600    1584   94\n",
      "21        Opel    Insignia    2000    1428   99\n",
      "22    Mercedes     C-Class    2100    1365   99\n",
      "23       Skoda     Octavia    1600    1415   99\n",
      "24       Volvo         S60    2000    1415   99\n",
      "25    Mercedes         CLA    1500    1465  102\n",
      "26        Audi          A4    2000    1490  104\n",
      "27        Audi          A6    2000    1725  114\n",
      "28       Volvo         V70    1600    1523  109\n",
      "29         BMW           5    2000    1705  114\n",
      "30    Mercedes     E-Class    2100    1605  115\n",
      "31       Volvo        XC70    2000    1746  117\n",
      "32        Ford       B-Max    1600    1235  104\n",
      "33         BMW         216    1600    1390  108\n",
      "34        Opel      Zafira    1600    1405  109\n",
      "35    Mercedes         SLK    2500    1395  120\n"
     ]
    }
   ],
   "source": [
    "df=pd.read_csv('cars.csv')\n",
    "print(df)"
   ]
  },
  {
   "cell_type": "code",
   "execution_count": 99,
   "id": "15691b43",
   "metadata": {},
   "outputs": [],
   "source": [
    "df_cars=pd.get_dummies(df['Car'])"
   ]
  },
  {
   "cell_type": "code",
   "execution_count": 100,
   "id": "7c53f808",
   "metadata": {},
   "outputs": [
    {
     "name": "stdout",
     "output_type": "stream",
     "text": [
      "    Audi  BMW  Fiat  Ford  Honda  Hundai  Hyundai  Mazda  Mercedes  Mini  \\\n",
      "0      0    0     0     0      0       0        0      0         0     0   \n",
      "1      0    0     0     0      0       0        0      0         0     0   \n",
      "2      0    0     0     0      0       0        0      0         0     0   \n",
      "3      0    0     1     0      0       0        0      0         0     0   \n",
      "4      0    0     0     0      0       0        0      0         0     1   \n",
      "5      0    0     0     0      0       0        0      0         0     0   \n",
      "6      0    0     0     0      0       0        0      0         0     0   \n",
      "7      0    0     0     0      0       0        0      0         1     0   \n",
      "8      0    0     0     1      0       0        0      0         0     0   \n",
      "9      1    0     0     0      0       0        0      0         0     0   \n",
      "10     0    0     0     0      0       0        1      0         0     0   \n",
      "11     0    0     0     0      0       0        0      0         0     0   \n",
      "12     0    0     0     1      0       0        0      0         0     0   \n",
      "13     0    0     0     0      1       0        0      0         0     0   \n",
      "14     0    0     0     0      0       1        0      0         0     0   \n",
      "15     0    0     0     0      0       0        0      0         0     0   \n",
      "16     0    1     0     0      0       0        0      0         0     0   \n",
      "17     0    0     0     0      0       0        0      1         0     0   \n",
      "18     0    0     0     0      0       0        0      0         0     0   \n",
      "19     0    0     0     1      0       0        0      0         0     0   \n",
      "20     0    0     0     1      0       0        0      0         0     0   \n",
      "21     0    0     0     0      0       0        0      0         0     0   \n",
      "22     0    0     0     0      0       0        0      0         1     0   \n",
      "23     0    0     0     0      0       0        0      0         0     0   \n",
      "24     0    0     0     0      0       0        0      0         0     0   \n",
      "25     0    0     0     0      0       0        0      0         1     0   \n",
      "26     1    0     0     0      0       0        0      0         0     0   \n",
      "27     1    0     0     0      0       0        0      0         0     0   \n",
      "28     0    0     0     0      0       0        0      0         0     0   \n",
      "29     0    1     0     0      0       0        0      0         0     0   \n",
      "30     0    0     0     0      0       0        0      0         1     0   \n",
      "31     0    0     0     0      0       0        0      0         0     0   \n",
      "32     0    0     0     1      0       0        0      0         0     0   \n",
      "33     0    1     0     0      0       0        0      0         0     0   \n",
      "34     0    0     0     0      0       0        0      0         0     0   \n",
      "35     0    0     0     0      0       0        0      0         1     0   \n",
      "\n",
      "    Mitsubishi  Opel  Skoda  Suzuki  Toyoty  VW  Volvo  \n",
      "0            0     0      0       0       1   0      0  \n",
      "1            1     0      0       0       0   0      0  \n",
      "2            0     0      1       0       0   0      0  \n",
      "3            0     0      0       0       0   0      0  \n",
      "4            0     0      0       0       0   0      0  \n",
      "5            0     0      0       0       0   1      0  \n",
      "6            0     0      1       0       0   0      0  \n",
      "7            0     0      0       0       0   0      0  \n",
      "8            0     0      0       0       0   0      0  \n",
      "9            0     0      0       0       0   0      0  \n",
      "10           0     0      0       0       0   0      0  \n",
      "11           0     0      0       1       0   0      0  \n",
      "12           0     0      0       0       0   0      0  \n",
      "13           0     0      0       0       0   0      0  \n",
      "14           0     0      0       0       0   0      0  \n",
      "15           0     1      0       0       0   0      0  \n",
      "16           0     0      0       0       0   0      0  \n",
      "17           0     0      0       0       0   0      0  \n",
      "18           0     0      1       0       0   0      0  \n",
      "19           0     0      0       0       0   0      0  \n",
      "20           0     0      0       0       0   0      0  \n",
      "21           0     1      0       0       0   0      0  \n",
      "22           0     0      0       0       0   0      0  \n",
      "23           0     0      1       0       0   0      0  \n",
      "24           0     0      0       0       0   0      1  \n",
      "25           0     0      0       0       0   0      0  \n",
      "26           0     0      0       0       0   0      0  \n",
      "27           0     0      0       0       0   0      0  \n",
      "28           0     0      0       0       0   0      1  \n",
      "29           0     0      0       0       0   0      0  \n",
      "30           0     0      0       0       0   0      0  \n",
      "31           0     0      0       0       0   0      1  \n",
      "32           0     0      0       0       0   0      0  \n",
      "33           0     0      0       0       0   0      0  \n",
      "34           0     1      0       0       0   0      0  \n",
      "35           0     0      0       0       0   0      0  \n"
     ]
    }
   ],
   "source": [
    "print(df_cars)"
   ]
  },
  {
   "cell_type": "code",
   "execution_count": 101,
   "id": "4927bed5",
   "metadata": {},
   "outputs": [
    {
     "name": "stdout",
     "output_type": "stream",
     "text": [
      "[122.45153299]\n"
     ]
    },
    {
     "name": "stderr",
     "output_type": "stream",
     "text": [
      "C:\\Users\\Arya Jagish\\anaconda3\\Lib\\site-packages\\sklearn\\base.py:464: UserWarning: X does not have valid feature names, but LinearRegression was fitted with feature names\n",
      "  warnings.warn(\n"
     ]
    }
   ],
   "source": [
    "from sklearn import linear_model\n",
    "\n",
    "\n",
    "X=pd.concat([df[['Volume','Weight']],df_cars],axis=1)\n",
    "y=df['CO2']\n",
    "\n",
    "regression=linear_model.LinearRegression()\n",
    "regression.fit(X,y)\n",
    "\n",
    "pred_CO2=regression.predict([[2300,1300,0,0,0,0,0,0,0,0,0,0,0,0,0,0,0,1,0]])\n",
    "print(pred_CO2)"
   ]
  },
  {
   "cell_type": "code",
   "execution_count": 102,
   "id": "bb7ffbe3",
   "metadata": {},
   "outputs": [
    {
     "name": "stdout",
     "output_type": "stream",
     "text": [
      "[ 1.03994638e-02  1.05990028e-02 -1.66396449e+00  7.20328929e-01\n",
      " -1.02440447e+00 -2.01717327e+00 -8.40584323e+00 -6.19016944e+00\n",
      "  4.67681744e+00 -4.94229359e+00 -2.32367445e+00  4.82119147e+00\n",
      " -2.27094945e+00 -3.56370312e+00 -2.17065916e+00  4.49093465e+00\n",
      "  7.73057436e+00  1.22573130e+01 -1.24325123e-01]\n"
     ]
    }
   ],
   "source": [
    "print(regression.coef_)"
   ]
  },
  {
   "cell_type": "code",
   "execution_count": 80,
   "id": "b98a54ad",
   "metadata": {},
   "outputs": [
    {
     "name": "stdout",
     "output_type": "stream",
     "text": [
      "      age     sex     bmi  children smoker     region      charges\n",
      "0      19  female  27.900         0    yes  southwest  16884.92400\n",
      "1      18    male  33.770         1     no  southeast   1725.55230\n",
      "2      28    male  33.000         3     no  southeast   4449.46200\n",
      "3      33    male  22.705         0     no  northwest  21984.47061\n",
      "4      32    male  28.880         0     no  northwest   3866.85520\n",
      "...   ...     ...     ...       ...    ...        ...          ...\n",
      "1333   50    male  30.970         3     no  northwest  10600.54830\n",
      "1334   18  female  31.920         0     no  northeast   2205.98080\n",
      "1335   18  female  36.850         0     no  southeast   1629.83350\n",
      "1336   21  female  25.800         0     no  southwest   2007.94500\n",
      "1337   61  female  29.070         0    yes  northwest  29141.36030\n",
      "\n",
      "[1338 rows x 7 columns]\n"
     ]
    }
   ],
   "source": [
    "import pandas as pd\n",
    "\n",
    "df=pd.read_csv(\"insurance.csv\")\n",
    "print(df)"
   ]
  },
  {
   "cell_type": "code",
   "execution_count": 81,
   "id": "dccb92eb",
   "metadata": {},
   "outputs": [
    {
     "name": "stdout",
     "output_type": "stream",
     "text": [
      "<class 'pandas.core.frame.DataFrame'>\n",
      "RangeIndex: 1338 entries, 0 to 1337\n",
      "Data columns (total 7 columns):\n",
      " #   Column    Non-Null Count  Dtype  \n",
      "---  ------    --------------  -----  \n",
      " 0   age       1338 non-null   int64  \n",
      " 1   sex       1338 non-null   object \n",
      " 2   bmi       1338 non-null   float64\n",
      " 3   children  1338 non-null   int64  \n",
      " 4   smoker    1338 non-null   object \n",
      " 5   region    1338 non-null   object \n",
      " 6   charges   1338 non-null   float64\n",
      "dtypes: float64(2), int64(2), object(3)\n",
      "memory usage: 73.3+ KB\n"
     ]
    }
   ],
   "source": [
    "df.info()"
   ]
  },
  {
   "cell_type": "code",
   "execution_count": 90,
   "id": "cda67e79",
   "metadata": {},
   "outputs": [],
   "source": [
    "df_insurance=pd.get_dummies(df[['smoker']])"
   ]
  },
  {
   "cell_type": "code",
   "execution_count": 91,
   "id": "a6502119",
   "metadata": {},
   "outputs": [
    {
     "name": "stdout",
     "output_type": "stream",
     "text": [
      "      smoker_no  smoker_yes\n",
      "0             0           1\n",
      "1             1           0\n",
      "2             1           0\n",
      "3             1           0\n",
      "4             1           0\n",
      "...         ...         ...\n",
      "1333          1           0\n",
      "1334          1           0\n",
      "1335          1           0\n",
      "1336          1           0\n",
      "1337          0           1\n",
      "\n",
      "[1338 rows x 2 columns]\n"
     ]
    }
   ],
   "source": [
    "print(df_insurance)"
   ]
  },
  {
   "cell_type": "code",
   "execution_count": 105,
   "id": "83008515",
   "metadata": {},
   "outputs": [],
   "source": [
    "import pandas as pd\n",
    "import numpy as np\n",
    "import matplotlib.pyplot as plt\n",
    "import seaborn as sns\n",
    "from sklearn.model_selection import train_test_split\n",
    "from sklearn.linear_model import LinearRegression\n",
    "from sklearn.metrics import mean_squared_error, r2_score\n",
    "\n",
    "# Load the dataset\n",
    "df = pd.read_csv('insurance.csv')\n"
   ]
  },
  {
   "cell_type": "code",
   "execution_count": 106,
   "id": "0edf469e",
   "metadata": {},
   "outputs": [],
   "source": [
    "# Convert categorical variables into numerical using one-hot encoding\n",
    "df = pd.get_dummies(df, columns=['sex', 'smoker', 'region'], drop_first=True)\n",
    "\n",
    "# Split the dataset into features (X) and target (y)\n",
    "X = df.drop('charges', axis=1)\n",
    "y = df['charges']\n",
    "\n",
    "# Split the data into training and testing sets (80% train, 20% test)\n",
    "X_train, X_test, y_train, y_test = train_test_split(X, y, test_size=0.2, random_state=42)\n"
   ]
  },
  {
   "cell_type": "code",
   "execution_count": 107,
   "id": "da090cb8",
   "metadata": {},
   "outputs": [
    {
     "data": {
      "text/html": [
       "<style>#sk-container-id-1 {color: black;}#sk-container-id-1 pre{padding: 0;}#sk-container-id-1 div.sk-toggleable {background-color: white;}#sk-container-id-1 label.sk-toggleable__label {cursor: pointer;display: block;width: 100%;margin-bottom: 0;padding: 0.3em;box-sizing: border-box;text-align: center;}#sk-container-id-1 label.sk-toggleable__label-arrow:before {content: \"▸\";float: left;margin-right: 0.25em;color: #696969;}#sk-container-id-1 label.sk-toggleable__label-arrow:hover:before {color: black;}#sk-container-id-1 div.sk-estimator:hover label.sk-toggleable__label-arrow:before {color: black;}#sk-container-id-1 div.sk-toggleable__content {max-height: 0;max-width: 0;overflow: hidden;text-align: left;background-color: #f0f8ff;}#sk-container-id-1 div.sk-toggleable__content pre {margin: 0.2em;color: black;border-radius: 0.25em;background-color: #f0f8ff;}#sk-container-id-1 input.sk-toggleable__control:checked~div.sk-toggleable__content {max-height: 200px;max-width: 100%;overflow: auto;}#sk-container-id-1 input.sk-toggleable__control:checked~label.sk-toggleable__label-arrow:before {content: \"▾\";}#sk-container-id-1 div.sk-estimator input.sk-toggleable__control:checked~label.sk-toggleable__label {background-color: #d4ebff;}#sk-container-id-1 div.sk-label input.sk-toggleable__control:checked~label.sk-toggleable__label {background-color: #d4ebff;}#sk-container-id-1 input.sk-hidden--visually {border: 0;clip: rect(1px 1px 1px 1px);clip: rect(1px, 1px, 1px, 1px);height: 1px;margin: -1px;overflow: hidden;padding: 0;position: absolute;width: 1px;}#sk-container-id-1 div.sk-estimator {font-family: monospace;background-color: #f0f8ff;border: 1px dotted black;border-radius: 0.25em;box-sizing: border-box;margin-bottom: 0.5em;}#sk-container-id-1 div.sk-estimator:hover {background-color: #d4ebff;}#sk-container-id-1 div.sk-parallel-item::after {content: \"\";width: 100%;border-bottom: 1px solid gray;flex-grow: 1;}#sk-container-id-1 div.sk-label:hover label.sk-toggleable__label {background-color: #d4ebff;}#sk-container-id-1 div.sk-serial::before {content: \"\";position: absolute;border-left: 1px solid gray;box-sizing: border-box;top: 0;bottom: 0;left: 50%;z-index: 0;}#sk-container-id-1 div.sk-serial {display: flex;flex-direction: column;align-items: center;background-color: white;padding-right: 0.2em;padding-left: 0.2em;position: relative;}#sk-container-id-1 div.sk-item {position: relative;z-index: 1;}#sk-container-id-1 div.sk-parallel {display: flex;align-items: stretch;justify-content: center;background-color: white;position: relative;}#sk-container-id-1 div.sk-item::before, #sk-container-id-1 div.sk-parallel-item::before {content: \"\";position: absolute;border-left: 1px solid gray;box-sizing: border-box;top: 0;bottom: 0;left: 50%;z-index: -1;}#sk-container-id-1 div.sk-parallel-item {display: flex;flex-direction: column;z-index: 1;position: relative;background-color: white;}#sk-container-id-1 div.sk-parallel-item:first-child::after {align-self: flex-end;width: 50%;}#sk-container-id-1 div.sk-parallel-item:last-child::after {align-self: flex-start;width: 50%;}#sk-container-id-1 div.sk-parallel-item:only-child::after {width: 0;}#sk-container-id-1 div.sk-dashed-wrapped {border: 1px dashed gray;margin: 0 0.4em 0.5em 0.4em;box-sizing: border-box;padding-bottom: 0.4em;background-color: white;}#sk-container-id-1 div.sk-label label {font-family: monospace;font-weight: bold;display: inline-block;line-height: 1.2em;}#sk-container-id-1 div.sk-label-container {text-align: center;}#sk-container-id-1 div.sk-container {/* jupyter's `normalize.less` sets `[hidden] { display: none; }` but bootstrap.min.css set `[hidden] { display: none !important; }` so we also need the `!important` here to be able to override the default hidden behavior on the sphinx rendered scikit-learn.org. See: https://github.com/scikit-learn/scikit-learn/issues/21755 */display: inline-block !important;position: relative;}#sk-container-id-1 div.sk-text-repr-fallback {display: none;}</style><div id=\"sk-container-id-1\" class=\"sk-top-container\"><div class=\"sk-text-repr-fallback\"><pre>LinearRegression()</pre><b>In a Jupyter environment, please rerun this cell to show the HTML representation or trust the notebook. <br />On GitHub, the HTML representation is unable to render, please try loading this page with nbviewer.org.</b></div><div class=\"sk-container\" hidden><div class=\"sk-item\"><div class=\"sk-estimator sk-toggleable\"><input class=\"sk-toggleable__control sk-hidden--visually\" id=\"sk-estimator-id-1\" type=\"checkbox\" checked><label for=\"sk-estimator-id-1\" class=\"sk-toggleable__label sk-toggleable__label-arrow\">LinearRegression</label><div class=\"sk-toggleable__content\"><pre>LinearRegression()</pre></div></div></div></div></div>"
      ],
      "text/plain": [
       "LinearRegression()"
      ]
     },
     "execution_count": 107,
     "metadata": {},
     "output_type": "execute_result"
    }
   ],
   "source": [
    "# Create a linear regression model\n",
    "model = LinearRegression()\n",
    "\n",
    "# Train the model on the training data\n",
    "model.fit(X_train, y_train)\n"
   ]
  },
  {
   "cell_type": "code",
   "execution_count": 108,
   "id": "28a9f728",
   "metadata": {},
   "outputs": [
    {
     "data": {
      "image/png": "[encoded data removed]",
      "text/plain": [
       "<Figure size 1200x800 with 2 Axes>"
      ]
     },
     "metadata": {},
     "output_type": "display_data"
    }
   ],
   "source": [
    "# Create a heatmap to visualize correlations\n",
    "correlation_matrix = df.corr()\n",
    "plt.figure(figsize=(12, 8))\n",
    "sns.heatmap(correlation_matrix, annot=True, cmap='coolwarm', fmt=\".2f\")\n",
    "plt.title(\"Correlation Heatmap\")\n",
    "plt.show()\n"
   ]
  },
  {
   "cell_type": "code",
   "execution_count": 109,
   "id": "d8baef67",
   "metadata": {},
   "outputs": [
    {
     "name": "stdout",
     "output_type": "stream",
     "text": [
      "Mean Squared Error (MSE): 33596915.851361446\n",
      "R-squared (R^2): 0.7835929767120724\n"
     ]
    }
   ],
   "source": [
    "# Make predictions on the test data\n",
    "y_pred = model.predict(X_test)\n",
    "\n",
    "# Calculate Mean Squared Error (MSE)\n",
    "mse = mean_squared_error(y_test, y_pred)\n",
    "\n",
    "# Calculate R-squared (R^2)\n",
    "r2 = r2_score(y_test, y_pred)\n",
    "\n",
    "print(f\"Mean Squared Error (MSE): {mse}\")\n",
    "print(f\"R-squared (R^2): {r2}\")\n"
   ]
  },
  {
   "cell_type": "code",
   "execution_count": null,
   "id": "359e26fb",
   "metadata": {},
   "outputs": [],
   "source": []
  }
 ],
 "metadata": {
  "kernelspec": {
   "display_name": "Python 3 (ipykernel)",
   "language": "python",
   "name": "python3"
  },
  "language_info": {
   "codemirror_mode": {
    "name": "ipython",
    "version": 3
   },
   "file_extension": ".py",
   "mimetype": "text/x-python",
   "name": "python",
   "nbconvert_exporter": "python",
   "pygments_lexer": "ipython3",
   "version": "3.11.4"
  }
 },
 "nbformat": 4,
 "nbformat_minor": 5
}
